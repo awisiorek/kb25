{
 "cells": [
  {
   "cell_type": "markdown",
   "metadata": {},
   "source": [
    "# 9. Erzeugen eigener POS-Tagger\n",
    "\n",
    "- Mapping von POS-Tagsets\n",
    "- Training eigener Tagger (mit Elternklasse nltk.tag.sequential.SequentialBackoffTagger)\n",
    "- Verknüpfung und Speicherung (Serialisierung) von Taggern\n",
    "- TreeTagger (Installation mit UNIX-Hilfsmitteln)\n"
   ]
  },
  {
   "cell_type": "code",
   "execution_count": 1,
   "metadata": {},
   "outputs": [],
   "source": [
    "import sys\n",
    "import nltk"
   ]
  },
  {
   "cell_type": "code",
   "execution_count": 2,
   "metadata": {},
   "outputs": [
    {
     "name": "stdout",
     "output_type": "stream",
     "text": [
      "Max/NE Schultze/NE ,/$, Ueber/APPR Muskelkörperchen/NN und/KON das/PDS ,/$, was/PRELS man/PIS eine/ART Zelle/NN zu/PTKZU nennen/VVINF habe/VAFIN ./$.\n",
      "\n"
     ]
    }
   ],
   "source": [
    "# Ergebnis der Anwendung von xmltcf.py (altmann_elementarorganismen_1890) von vorheriger Sitzung\n",
    "# zeilenweise in Liste einlesen:\n",
    "with open('sents.txt') as f: \n",
    "    sents = f.readlines()\n",
    "print(sents[42])"
   ]
  },
  {
   "cell_type": "code",
   "execution_count": 6,
   "metadata": {},
   "outputs": [
    {
     "name": "stdout",
     "output_type": "stream",
     "text": [
      "('Fliege', 'NN')\n"
     ]
    }
   ],
   "source": [
    "# str2tuple: Hilfsfunktion zur Konvertierung \"Token/POS\"-Format in Tupel-Format:\n",
    "print(nltk.tag.str2tuple(\"Fliege/NN\"))"
   ]
  },
  {
   "cell_type": "code",
   "execution_count": 4,
   "metadata": {},
   "outputs": [
    {
     "name": "stdout",
     "output_type": "stream",
     "text": [
      "[('Max', 'NE'), ('Schultze', 'NE'), (',', '$,'), ('Ueber', 'APPR'), ('Muskelkörperchen', 'NN'), ('und', 'KON'), ('das', 'PDS'), (',', '$,'), ('was', 'PRELS'), ('man', 'PIS'), ('eine', 'ART'), ('Zelle', 'NN'), ('zu', 'PTKZU'), ('nennen', 'VVINF'), ('habe', 'VAFIN'), ('.', '$.')]\n"
     ]
    }
   ],
   "source": [
    "# Deserialisierung von sents.txt (Serialisierung in semistrukturiertem Austauschformat):\n",
    "\n",
    "# Erzeugung von Tupellisten pro Satz/Zeile (ohne Zeilenumbruch: -1):\n",
    "tagged_sents = [[nltk.tag.str2tuple(t) for t in sent[:-1].split(\" \")] for sent in sents]\n",
    "print(tagged_sents[42])"
   ]
  },
  {
   "cell_type": "markdown",
   "metadata": {},
   "source": [
    "## Tagsets\n",
    "* Tagsets sind oft inkompatibel zueinander\n",
    "* [DTA](https://www.deutschestextarchiv.de) verwendet das [Stuttgart-Tübingen Tagset](https://www.sfs.uni-tuebingen.de/Elwis/stts/stts.html) (STTS)\n",
    "* NLTK-Korpora verwenden verschiedene Tagset (z.B. [Penn Treebank Project](https://www.ling.upenn.edu/courses/Fall_2003/ling001/penn_treebank_pos.html))\n",
    "* viele Korpora erm&ouml;glichen die Konvertierung in das [Universal Tagset](https://arxiv.org/abs/1104.2086)\n",
    "* Verwendung von Abbildungen (Mappings) zwischen Tagsets (z.B. [universal-pos-tags](https://github.com/slavpetrov/universal-pos-tags))"
   ]
  },
  {
   "cell_type": "code",
   "execution_count": 11,
   "metadata": {
    "tags": []
   },
   "outputs": [
    {
     "name": "stdout",
     "output_type": "stream",
     "text": [
      "VB: verb, base form\n",
      "    ask assemble assess assign assume atone attention avoid bake balkanize\n",
      "    bank begin behold believe bend benefit bevel beware bless boil bomb\n",
      "    boost brace break bring broil brush build ...\n",
      "VBD: verb, past tense\n",
      "    dipped pleaded swiped regummed soaked tidied convened halted registered\n",
      "    cushioned exacted snubbed strode aimed adopted belied figgered\n",
      "    speculated wore appreciated contemplated ...\n",
      "VBG: verb, present participle or gerund\n",
      "    telegraphing stirring focusing angering judging stalling lactating\n",
      "    hankerin' alleging veering capping approaching traveling besieging\n",
      "    encrypting interrupting erasing wincing ...\n",
      "VBN: verb, past participle\n",
      "    multihulled dilapidated aerosolized chaired languished panelized used\n",
      "    experimented flourished imitated reunifed factored condensed sheared\n",
      "    unsettled primed dubbed desired ...\n",
      "VBP: verb, present tense, not 3rd person singular\n",
      "    predominate wrap resort sue twist spill cure lengthen brush terminate\n",
      "    appear tend stray glisten obtain comprise detest tease attract\n",
      "    emphasize mold postpone sever return wag ...\n",
      "VBZ: verb, present tense, 3rd person singular\n",
      "    bases reconstructs marks mixes displeases seals carps weaves snatches\n",
      "    slumps stretches authorizes smolders pictures emerges stockpiles\n",
      "    seduces fizzes uses bolsters slaps speaks pleads ...\n"
     ]
    }
   ],
   "source": [
    "#nltk.help.upenn_tagset()\n",
    "nltk.help.upenn_tagset(\"V\")"
   ]
  },
  {
   "cell_type": "code",
   "execution_count": 74,
   "metadata": {},
   "outputs": [
    {
     "name": "stdout",
     "output_type": "stream",
     "text": [
      "[('The', 'AT'), ('Fulton', 'NP-TL'), ('County', 'NN-TL'), ('Grand', 'JJ-TL'), ('Jury', 'NN-TL'), ('said', 'VBD'), ('Friday', 'NR'), ('an', 'AT')]\n",
      "[('The', 'DET'), ('Fulton', 'NOUN'), ('County', 'NOUN'), ('Grand', 'ADJ'), ('Jury', 'NOUN'), ('said', 'VERB'), ('Friday', 'NOUN'), ('an', 'DET')]\n"
     ]
    }
   ],
   "source": [
    "print(nltk.corpus.brown.tagged_words()[:8])\n",
    "print(nltk.corpus.brown.tagged_words(tagset='universal')[:8])"
   ]
  },
  {
   "cell_type": "markdown",
   "metadata": {},
   "source": [
    "## Mapping von STTS nach Universal"
   ]
  },
  {
   "cell_type": "code",
   "execution_count": 9,
   "metadata": {},
   "outputs": [
    {
     "name": "stdout",
     "output_type": "stream",
     "text": [
      "[('Max', 'NOUN'), ('Schultze', 'NOUN'), (',', '.'), ('Ueber', 'ADP'), ('Muskelkörperchen', 'NOUN'), ('und', 'CONJ'), ('das', 'PRON'), (',', '.'), ('was', 'PRON'), ('man', 'PRON'), ('eine', 'DET'), ('Zelle', 'NOUN'), ('zu', 'PRT'), ('nennen', 'VERB'), ('habe', 'VERB'), ('.', '.')]\n"
     ]
    }
   ],
   "source": [
    "# Max/NE Schultze/NE ,/$, Ueber/APPR Muskelkörperchen/NN und/KON das/PDS ,/$, was/PRELS man/PIS eine/ART Zelle/NN zu/PTKZU nennen/VVINF habe/VAFIN ./$.\n",
    "def stts2universal(tag):\n",
    "    mappings = {\n",
    "        'APPR': 'ADP', # adpositions (preposition + postpositions)\n",
    "        'KON': 'CONJ',\n",
    "        'PDS': 'PRON',\n",
    "        'PRELS': 'PRON',\n",
    "        'PIS': 'PRON',\n",
    "        'ART': 'DET',\n",
    "        'PTKZU': 'PRT',\n",
    "        # ...\n",
    "    }\n",
    "    if tag in mappings: \n",
    "        return mappings[tag]\n",
    "    if tag.startswith('V'):\n",
    "        return 'VERB'\n",
    "    if tag.startswith('N'):\n",
    "        return 'NOUN'\n",
    "    if tag.startswith('$'):\n",
    "        return '.'\n",
    "    return 'X'\n",
    "\n",
    "univ = [(w, stts2universal(t)) for (w, t) in tagged_sents[42]]\n",
    "print(univ)"
   ]
  },
  {
   "cell_type": "markdown",
   "metadata": {},
   "source": [
    "## Kontext"
   ]
  },
  {
   "cell_type": "code",
   "execution_count": 12,
   "metadata": {},
   "outputs": [
    {
     "name": "stdout",
     "output_type": "stream",
     "text": [
      "zu nennen habe\n",
      "zu thun haben\n",
      "zu ändern vermocht\n",
      "zu erwarten ist\n",
      "zu entdecken waren\n",
      "zu sehen ist\n",
      "zu folgen pflegt\n"
     ]
    }
   ],
   "source": [
    "def zu_v_v(sent):\n",
    "    for (w1,_), (w2,t2), (w3,t3) in list(nltk.trigrams(sent)):\n",
    "        if w1 == 'zu' and t2.startswith('V') and t3.startswith('V'):\n",
    "            print(w1, w2, w3)\n",
    "\n",
    "for sent in tagged_sents[:250]:\n",
    "    zu_v_v(sent)"
   ]
  },
  {
   "cell_type": "markdown",
   "metadata": {},
   "source": [
    "## Mehrdeutige W&ouml;rter\n",
    "\n",
    "- Wörter mit mehr als 3 POS-Tags"
   ]
  },
  {
   "cell_type": "code",
   "execution_count": 20,
   "metadata": {
    "tags": []
   },
   "outputs": [
    {
     "data": {
      "text/plain": [
       "FreqDist({'APPR': 120, 'PTKA': 11, 'PTKVZ': 4, 'PTKZU': 403})"
      ]
     },
     "execution_count": 20,
     "metadata": {},
     "output_type": "execute_result"
    }
   ],
   "source": [
    "words2tags = nltk.ConditionalFreqDist([(w.lower(), t) for sent in tagged_sents for (w, t) in sent])\n",
    "words2tags['zu']"
   ]
  },
  {
   "cell_type": "code",
   "execution_count": 19,
   "metadata": {},
   "outputs": [
    {
     "name": "stdout",
     "output_type": "stream",
     "text": [
      "zu APPR PTKZU PTKA PTKVZ\n",
      "s. NN FM.XY VVIMP FM\n",
      "bis APPR ADV KON KOUS\n",
      "a. APPRART NE XY PIS\n",
      "de FM NE FM.LA FM.DA\n",
      "anderer NN ADJA PIS NE\n",
      "statt KOUI APPR NN PTKVZ\n",
      "anat. NN XY ADJA NE\n",
      "krehl VVIMP PTKVZ NN ADJD VVFIN\n"
     ]
    }
   ],
   "source": [
    "for w in words2tags.conditions():\n",
    "    if len(words2tags[w]) > 3:\n",
    "        print(w, ' '.join(words2tags[w].keys()))"
   ]
  },
  {
   "cell_type": "markdown",
   "metadata": {},
   "source": [
    "---\n",
    "## H&auml;ufigste Tags\n",
    "\n",
    "- als Baseline / Default-Tagger (letzter Backoff-Tagger)"
   ]
  },
  {
   "cell_type": "code",
   "execution_count": 21,
   "metadata": {},
   "outputs": [
    {
     "name": "stdout",
     "output_type": "stream",
     "text": [
      "[('NN', 9667), ('ART', 5459), ('APPR', 3794)]\n"
     ]
    }
   ],
   "source": [
    "tags2counts = nltk.FreqDist([t for sent in tagged_sents for (w, t) in sent])\n",
    "print(tags2counts.most_common(3))"
   ]
  },
  {
   "cell_type": "markdown",
   "metadata": {},
   "source": [
    "## DefaultTagger\n",
    "https://www.nltk.org/api/nltk.tag.sequential.html#nltk.tag.sequential.DefaultTagger\n",
    "\n"
   ]
  },
  {
   "cell_type": "code",
   "execution_count": 22,
   "metadata": {},
   "outputs": [
    {
     "data": {
      "text/plain": [
       "0.19881537543960678"
      ]
     },
     "execution_count": 22,
     "metadata": {},
     "output_type": "execute_result"
    }
   ],
   "source": [
    "default_tagger = nltk.DefaultTagger('NN')\n",
    "default_tagger.evaluate(tagged_sents)"
   ]
  },
  {
   "cell_type": "markdown",
   "metadata": {},
   "source": [
    "---\n",
    "## H&auml;ufigste Suffixe"
   ]
  },
  {
   "cell_type": "code",
   "execution_count": 24,
   "metadata": {},
   "outputs": [
    {
     "name": "stdout",
     "output_type": "stream",
     "text": [
      "ie [('ART', 1455), ('PWAV', 245)]\n",
      "en [('NN', 2581), ('ADJA', 1756)]\n",
      "nd [('KON', 1001), ('VAFIN', 253)]\n",
      "re [('ADJA', 194), ('NN', 180)]\n",
      "on [('APPR', 504), ('NN', 239)]\n",
      "rd [('VAFIN', 119), ('NE', 3)]\n",
      "nn [('KOUS', 166), ('ADV', 104)]\n",
      "it [('APPR', 368), ('NN', 246)]\n",
      "ei [('APPR', 244), ('VAFIN', 30)]\n",
      "xt [('NE', 2)]\n"
     ]
    }
   ],
   "source": [
    "suffixes2tags = nltk.ConditionalFreqDist([(w.lower()[-2:], t) for sent in tagged_sents for (w, t) in sent if len(w) > 2])\n",
    "for suf in suffixes2tags.conditions()[:10]:\n",
    "    print(suf, suffixes2tags[suf].most_common(2))"
   ]
  },
  {
   "cell_type": "markdown",
   "metadata": {},
   "source": [
    "## SequentialBackoffTagger\n",
    "https://www.nltk.org/api/nltk.tag.sequential.html#nltk.tag.sequential.SequentialBackoffTagger\n",
    "\n",
    "- abstrakte Tagger-Klasse\n",
    "- DefaultTagger (s.o.) basiert auf (erbt von) SequentialBackoffTagger\n",
    "- eigener Tagger über Implementierung der `choose_tag`-Methode (z.B. return None wenn kein Tag spezifizierbar)\n",
    "- weitere Funktionalität (Handling von Backoff-Taggern etc.) übernimmt weiter der SequentialBackoffTagger "
   ]
  },
  {
   "cell_type": "code",
   "execution_count": 25,
   "metadata": {},
   "outputs": [
    {
     "name": "stdout",
     "output_type": "stream",
     "text": [
      "\n",
      "    An abstract base class for taggers that tags words sequentially,\n",
      "    left to right.  Tagging of individual words is performed by the\n",
      "    ``choose_tag()`` method, which should be defined by subclasses.  If\n",
      "    a tagger is unable to determine a tag for the specified token,\n",
      "    then its backoff tagger is consulted.\n",
      "\n",
      "    :ivar _taggers: A list of all the taggers that should be tried to\n",
      "        tag a token (i.e., self and its backoff taggers).\n",
      "    \n"
     ]
    }
   ],
   "source": [
    "print(nltk.tag.SequentialBackoffTagger.__doc__)"
   ]
  },
  {
   "cell_type": "code",
   "execution_count": 26,
   "metadata": {},
   "outputs": [
    {
     "name": "stdout",
     "output_type": "stream",
     "text": [
      "\n",
      "        Decide which tag should be used for the specified token, and\n",
      "        return that tag.  If this tagger is unable to determine a tag\n",
      "        for the specified token, return None -- do not consult\n",
      "        the backoff tagger.  This method should be overridden by\n",
      "        subclasses of SequentialBackoffTagger.\n",
      "\n",
      "        :rtype: str\n",
      "        :type tokens: list\n",
      "        :param tokens: The list of words that are being tagged.\n",
      "        :type index: int\n",
      "        :param index: The index of the word whose tag should be\n",
      "            returned.\n",
      "        :type history: list(str)\n",
      "        :param history: A list of the tags for all words before *index*.\n",
      "        \n"
     ]
    }
   ],
   "source": [
    "print(nltk.tag.SequentialBackoffTagger.choose_tag.__doc__)"
   ]
  },
  {
   "cell_type": "markdown",
   "metadata": {},
   "source": [
    "## Suffix Tagger\n",
    "\n",
    "- eigener Tagger, basierend auf SequentialBackoffTagger\n",
    "- erbt alle Methoden von Elternklasse (z.B. `evaluate()`)"
   ]
  },
  {
   "cell_type": "code",
   "execution_count": 33,
   "metadata": {
    "tags": []
   },
   "outputs": [
    {
     "data": {
      "text/plain": [
       "0.41618164243259365"
      ]
     },
     "execution_count": 33,
     "metadata": {},
     "output_type": "execute_result"
    }
   ],
   "source": [
    "class SuffixTagger(nltk.tag.sequential.SequentialBackoffTagger): #erben von abstrakter Klasse\n",
    "    def __init__(self, suffixes, n, backoff=None): #Konstruktor\n",
    "        super().__init__(backoff) #Super-Konstruktor des SequentialBackoffTagger: Handling Backoff Tagger\n",
    "        self.suffixes = suffixes \n",
    "        self.n = n\n",
    "\n",
    "    def choose_tag(self, tokens, index, history):\n",
    "        if len(tokens[index]) > self.n:\n",
    "            if tokens[index][-self.n:] in self.suffixes:\n",
    "                return self.suffixes[tokens[index][-self.n:]]\n",
    "        return None # let the backoff tagger handle all other cases\n",
    "\n",
    "n = 2 #Suffixe der Länge 2\n",
    "#Extraktion der Suffixe:\n",
    "suffixes2tags = nltk.ConditionalFreqDist([(w[-n:], t) for sent in tagged_sents for (w, t) in sent if len(w) > n])\n",
    "#Abbildung Suffixe auf häufigste Tags:\n",
    "suffixes = {suf: tags.most_common(1)[0][0] for (suf, tags) in suffixes2tags.items() if len(tags) > 0}\n",
    "#Erzeugung Suffix-Tagger:\n",
    "suffix_tagger = SuffixTagger(suffixes, n, default_tagger)\n",
    "\n",
    "#Evaluierung (Methode der Elternklasse):\n",
    "suffix_tagger.evaluate(tagged_sents)"
   ]
  },
  {
   "cell_type": "markdown",
   "metadata": {},
   "source": [
    "---\n",
    "## Unigramm und N-Gramm Tagger\n",
    "* Unigramm Tagger betrachten immer nur einen Token\n",
    "* N-Gramm Tagger betrachten einen Token und `N-1` Kontexttoken\n",
    "* siehe [NLTK Buch 5. Kapitel](https://www.nltk.org/book_1ed/ch05.html) und [Symbolische Programmiersprache 20/21](https://cis-sp2021.github.io/crawling_pos.pdf)\n",
    "\n",
    "<img src=\"https://www.nltk.org/images/tag-context.png\" alt=\"Tagger Context\">"
   ]
  },
  {
   "cell_type": "markdown",
   "metadata": {},
   "source": [
    "### Aufteilung in Training- und Evaluierungsmengen"
   ]
  },
  {
   "cell_type": "code",
   "execution_count": 46,
   "metadata": {
    "tags": []
   },
   "outputs": [
    {
     "name": "stdout",
     "output_type": "stream",
     "text": [
      "train set: 1358\n",
      "test set:  151\n"
     ]
    }
   ],
   "source": [
    "import random\n",
    "\n",
    "size = int(len(tagged_sents) * 0.9)\n",
    "random.shuffle(tagged_sents)\n",
    "test_sents = tagged_sents[size:]\n",
    "train_sents = tagged_sents[:size]\n",
    "print(\"train set:\", len(train_sents))\n",
    "print(\"test set: \", len(test_sents))"
   ]
  },
  {
   "cell_type": "markdown",
   "metadata": {},
   "source": [
    "### Kombination von Taggern"
   ]
  },
  {
   "cell_type": "code",
   "execution_count": 47,
   "metadata": {},
   "outputs": [
    {
     "name": "stdout",
     "output_type": "stream",
     "text": [
      "default tagger: 0.20026263952724885\n",
      "suffix tagger:  0.40993652878091486\n"
     ]
    }
   ],
   "source": [
    "print(\"default tagger:\", default_tagger.evaluate(test_sents))\n",
    "print(\"suffix tagger: \", suffix_tagger.evaluate(test_sents))"
   ]
  },
  {
   "cell_type": "code",
   "execution_count": 51,
   "metadata": {},
   "outputs": [
    {
     "data": {
      "text/plain": [
       "0.8734952943751368"
      ]
     },
     "execution_count": 51,
     "metadata": {},
     "output_type": "execute_result"
    }
   ],
   "source": [
    "t_unigram = nltk.UnigramTagger(train_sents)\n",
    "t_unigram.evaluate(test_sents)"
   ]
  },
  {
   "cell_type": "code",
   "execution_count": 53,
   "metadata": {},
   "outputs": [
    {
     "data": {
      "text/plain": [
       "0.1346027577150361"
      ]
     },
     "execution_count": 53,
     "metadata": {},
     "output_type": "execute_result"
    }
   ],
   "source": [
    "t_bigram = nltk.BigramTagger(train_sents)\n",
    "t_bigram.evaluate(test_sents)"
   ]
  },
  {
   "cell_type": "code",
   "execution_count": 48,
   "metadata": {},
   "outputs": [
    {
     "data": {
      "text/plain": [
       "0.9067629678266579"
      ]
     },
     "execution_count": 48,
     "metadata": {},
     "output_type": "execute_result"
    }
   ],
   "source": [
    "t1 = nltk.UnigramTagger(train_sents, backoff=suffix_tagger)\n",
    "t1.evaluate(test_sents)"
   ]
  },
  {
   "cell_type": "code",
   "execution_count": 49,
   "metadata": {},
   "outputs": [
    {
     "data": {
      "text/plain": [
       "0.9157364850076604"
      ]
     },
     "execution_count": 49,
     "metadata": {},
     "output_type": "execute_result"
    }
   ],
   "source": [
    "t2 = nltk.BigramTagger(train_sents, backoff=t1)\n",
    "t2.evaluate(test_sents)"
   ]
  },
  {
   "cell_type": "code",
   "execution_count": 60,
   "metadata": {},
   "outputs": [
    {
     "data": {
      "text/plain": [
       "[('zu', 'PTKZU'), ('thun', 'VVINF'), ('haben', 'VAFIN')]"
      ]
     },
     "execution_count": 60,
     "metadata": {},
     "output_type": "execute_result"
    }
   ],
   "source": [
    "t2.tag([\"zu\", \"thun\", \"haben\"])"
   ]
  },
  {
   "cell_type": "markdown",
   "metadata": {},
   "source": [
    "### Speicherung von Taggern\n",
    "* Speicherung/Serialisierung von Objekten mit [pickle](https://docs.python.org/3/library/pickle.html)\n",
    "- binäres Format für Python-Objekte\n",
    "* pickle ist **nicht** sicher; niemals Objekte von unbekannten/unzuverl&auml;ssigen Quellen laden"
   ]
  },
  {
   "cell_type": "code",
   "execution_count": 61,
   "metadata": {},
   "outputs": [
    {
     "data": {
      "text/plain": [
       "0.9157364850076604"
      ]
     },
     "execution_count": 61,
     "metadata": {},
     "output_type": "execute_result"
    }
   ],
   "source": [
    "#Speichern und Laden unseres t2-Taggers:\n",
    "import pickle\n",
    "with open('tagger.pickle', 'wb') as f:\n",
    "    pickle.dump(t2, f)\n",
    "with open('tagger.pickle', 'rb') as f:\n",
    "    loaded_tagger = pickle.load(f)\n",
    "loaded_tagger.evaluate(test_sents)"
   ]
  },
  {
   "cell_type": "markdown",
   "metadata": {},
   "source": [
    "## TreeTagger\n",
    "* [TreeTagger](https://www.cis.uni-muenchen.de/~schmid/tools/TreeTagger/) probabilistierscher POS- und Lemma-Tagger von Helmut Schmid (CIS, LMU)\n",
    "* beinhaltet verschiedene Tagger und [Chunker](https://en.wikipedia.org/wiki/Shallow_parsing) f&uuml;r verschiedene [Sprachen](https://www.cis.uni-muenchen.de/~schmid/tools/TreeTagger/#parfiles)\n",
    "* deutscher Tagger/Chunker verwendet das [Stuttgart-Tübingen Tagset](https://www.sfs.uni-tuebingen.de/Elwis/stts/stts.html) (STTS)\n",
    "* Installation muss manuell vorgenommen werden:\n",
    "  * manuelle Installation des TreeTaggers\n",
    "  * [Python Wrapper](https://treetaggerwrapper.readthedocs.io/en/latest/) mit pip installieren"
   ]
  },
  {
   "cell_type": "markdown",
   "metadata": {},
   "source": [
    "### wget\n",
    "\n",
    "| Name | wget - nicht-interaktives Werkzeug zum Herunterladen von Daten aus den Netz |\n",
    "|:---|:---|\n",
    "|Überblick| wget \\[OPTION\\]... \\[URL\\]... |\n",
    "|Beschreibung | L&auml;dt Dateien und Verzeichnissb&auml;ume aus dem Netz herunter. |\n",
    "| Wichtige Optionen: | |\n",
    "| -o, --output-file `log-file` | schreibt Log-Nachrichten nach `log-file` und nicht nach `stderr` |\n",
    "| -q, --quiet | unterdr&uuml;ckt Log-Nachrichten |\n",
    "| -v, --verbose | ausf&uuml;hrliche Log-Nachrichten |\n",
    "| -c, --continue | setzt das Herunterladen von partiellen Dateien fort |\n",
    "| -O, --output-document `file` | schreibt die heruntergeladenen Dateien nach `file` |\n",
    "\n",
    "\n",
    "### _alternativ:_\n",
    "\n",
    "### curl\n",
    "\n",
    "| Name | curl - Werkzeug zur Daten&uuml;bertragung |\n",
    "|:---|:---|\n",
    "|Überblick| curl \\[OPTION\\]... \\[URL\\]... |\n",
    "|Beschreibung | Tool zum Transferieren von Daten von oder auf einen Server. |\n",
    "| Wichtige Optionen: | |\n",
    "| -o, --output `log-file` | schreibt Log-Nachrichten nach `log-file` und nicht nach `stderr` |\n",
    "| -s, --silent | unterdr&uuml;ckt Log-Nachrichten |\n",
    "| -O, --remote-name `file` | schreibt die heruntergeladenen Dateien nach `file` (unter dem selbem Namen wie wie die Remote Datei) |\n"
   ]
  },
  {
   "cell_type": "code",
   "execution_count": 5,
   "metadata": {},
   "outputs": [
    {
     "name": "stdout",
     "output_type": "stream",
     "text": [
      "<!DOCTYPE html>\n",
      "<html lang=\"en-US\">\n",
      "\n",
      "  <head>\n",
      "    <meta charset='utf-8'>\n",
      "    <meta http-equiv=\"X-UA-Compatible\" content=\"IE=edge\">\n",
      "    <meta name=\"viewport\" content=\"width=device-width,maximum-scale=2\">\n",
      "    <link rel=\"stylesheet\" type=\"text/css\" media=\"screen\" href=\"/assets/css/style.css?v=be470d2329bb63c0c069a513bb9bed4b1ab5fd8b\">\n",
      "\n",
      "<!-- Begin Jekyll SEO tag v2.7.1 -->\n",
      "<title>Kurs “Korpusbearbeitung” | cis-kb21.github.io</title>\n",
      "<meta name=\"generator\" content=\"Jekyll v3.9.0\" />\n",
      "<meta property=\"og:title\" content=\"Kurs “Korpusbearbeitung”\" />\n",
      "<meta property=\"og:locale\" content=\"en_US\" />\n",
      "<meta name=\"description\" content=\"Website for Korpusbearbeitung SoSe 21\" />\n"
     ]
    }
   ],
   "source": [
    "%%bash\n",
    "wget -qO /dev/stdout https://cis-kb21.github.io | sed 15q"
   ]
  },
  {
   "cell_type": "markdown",
   "metadata": {},
   "source": [
    "### tar\n",
    "\n",
    "| Name | tar - Archivierungswerkzeug |\n",
    "|:---|:---|\n",
    "|Überblick| tar -x \\[-f ARCHIVE\\] \\[OPTION\\]... \\[FILE\\]... |\n",
    "|         | tar -t \\[-f ARCHIVE\\] \\[OPTION\\]... \\[FILE\\]... |\n",
    "|         | tar -c \\[-f ARCHIVE\\] \\[OPTION\\]... \\[FILE\\]... |\n",
    "|Beschreibung | Fasst mehrere Dateien in einer Datei zusammen und |\n",
    "|             | komprimiert sie (`-c`), listet die Dateien in einem |\n",
    "|             | Archiv auf (`-t`) oder extrahiert die Dateien aus |\n",
    "|             | einem Archiv (`-x`). |\n",
    "| Wichtige Optionen: | |\n",
    "| -z, --gzip, --gunzip --ungzip | komprimiert die Archive mit `gzip(1)` |\n",
    "| -Z, --compress, --uncompress | komprimiert die Archive mit `compress(1)` |\n",
    "| -j, --bzip2 | komprimiert die Archive mit `bzip2(1)` |\n",
    "| -J, --xz | komprimiert die Archive mit `xz(1)` |\n",
    "| -C, --directory `DIR` | Wechselt nach `DIR` bevor irgendwelche Arbeiten |\n",
    "|                       | durchgef&uuml;hrt werden |"
   ]
  },
  {
   "cell_type": "code",
   "execution_count": 20,
   "metadata": {},
   "outputs": [
    {
     "name": "stdout",
     "output_type": "stream",
     "text": [
      "files in ar.tar.gz:\n",
      "-> sents.txt\n",
      "-> 08_pos_tagging.ipynb\n",
      "file sizes:\n",
      "-> 08_pos_tagging.ipynb: 37K\n",
      "-> ar.tar.gz: 138K\n",
      "-> sents.txt: 516K\n"
     ]
    }
   ],
   "source": [
    "%%bash\n",
    "tar -czf ar.tar.gz sents.txt 08_pos_tagging.ipynb\n",
    "echo \"files in ar.tar.gz:\"\n",
    "tar -tzf ar.tar.gz | awk '{print \"-> \" $0}'\n",
    "echo \"file sizes:\"\n",
    "ls -hl sents.txt 08_pos_tagging.ipynb ar.tar.gz | awk '{print \"-> \" $9 \": \" $5}'"
   ]
  },
  {
   "cell_type": "markdown",
   "metadata": {},
   "source": [
    "### Weitere Werkzeuge\n",
    "* [curl](https://curl.se): Werkzeug zur Daten&uuml;bertragung ([Everything curl](https://curl.se/book.html))\n",
    "* zcat: cat auf gezippten Dateien\n",
    "* gzip: komprimiert Dateien gzip\n",
    "* gunzip: dekomprimiert gzip Dateien"
   ]
  },
  {
   "cell_type": "markdown",
   "metadata": {},
   "source": [
    "### Installation des TreeTagger\n",
    "* Herunterladen des TreeTaggers\n",
    "* Herunterladen der Hilfs-Skripte\n",
    "* Herunterladen des Installations-Skripts\n",
    "* Herunterladen der [Sprachparameterdateien](https://www.cis.uni-muenchen.de/~schmid/tools/TreeTagger/#parfiles)"
   ]
  },
  {
   "cell_type": "code",
   "execution_count": 205,
   "metadata": {},
   "outputs": [
    {
     "name": "stdout",
     "output_type": "stream",
     "text": [
      "\n",
      "Tagging scripts installed.\n",
      "German parameter file installed.\n",
      "Path variables modified in tagging scripts.\n",
      "\n",
      "You might want to add /home/flo/devel/work/kb21/jupyter/08/tree-tagger/cmd and /home/flo/devel/work/kb21/jupyter/08/tree-tagger/bin to the PATH variable so that you do not need to specify the full path to run the tagging scripts.\n",
      "\n",
      "mkdir: cannot create directory ‘cmd’: File exists\n",
      "mkdir: cannot create directory ‘lib’: File exists\n",
      "mkdir: cannot create directory ‘bin’: File exists\n",
      "mkdir: cannot create directory ‘doc’: File exists\n"
     ]
    }
   ],
   "source": [
    "%%bash\n",
    "mkdir -p tree-tagger && cd tree-tagger\n",
    "wget -c -q https://www.cis.uni-muenchen.de/~schmid/tools/TreeTagger/data/tree-tagger-linux-3.2.4.tar.gz # tree tagger\n",
    "# wget -c -q https://www.cis.uni-muenchen.de/~schmid/tools/TreeTagger/data/tree-tagger-MacOSX-3.2.3.tar.gz\n",
    "wget -c -q https://www.cis.uni-muenchen.de/~schmid/tools/TreeTagger/data/tagger-scripts.tar.gz # scripts\n",
    "wget -c -q https://www.cis.uni-muenchen.de/~schmid/tools/TreeTagger/data/install-tagger.sh # install script\n",
    "wget -c -q https://www.cis.uni-muenchen.de/~schmid/tools/TreeTagger/data/german.par.gz # language parameter file\n",
    "\n",
    "tar -xzf tree-tagger-linux-3.2.4.tar.gz\n",
    "bash install-tagger.sh"
   ]
  },
  {
   "cell_type": "code",
   "execution_count": 73,
   "metadata": {},
   "outputs": [
    {
     "name": "stdout",
     "output_type": "stream",
     "text": [
      "\n",
      "TreeTagger version for Mac OS-X installed.\n",
      "Tagging scripts installed.\n",
      "German parameter file installed.\n",
      "Path variables modified in tagging scripts.\n",
      "\n",
      "You might want to add ~/08_pos_tagging/tree-tagger/cmd and ~/08_pos_tagging/tree-tagger/bin to the PATH variable so that you do not need to specify the full path to run the tagging scripts.\n",
      "\n"
     ]
    },
    {
     "name": "stderr",
     "output_type": "stream",
     "text": [
      "mkdir: cmd: File exists\n",
      "mkdir: bin: File exists\n",
      "mkdir: doc: File exists\n"
     ]
    }
   ],
   "source": [
    "%%bash\n",
    "#Alternativ: mit curl (hier für MacOS)\n",
    "mkdir -p tree-tagger && cd tree-tagger\n",
    "#curl -O --silent https://www.cis.uni-muenchen.de/~schmid/tools/TreeTagger/data/tree-tagger-linux-3.2.4.tar.gz\n",
    "curl -O --silent https://www.cis.uni-muenchen.de/~schmid/tools/TreeTagger/data/tree-tagger-MacOSX-3.2.3.tar.gz\n",
    "curl -O --silent https://www.cis.uni-muenchen.de/~schmid/tools/TreeTagger/data/tagger-scripts.tar.gz # scripts\n",
    "curl -O --silent https://www.cis.uni-muenchen.de/~schmid/tools/TreeTagger/data/install-tagger.sh # install script\n",
    "curl -O --silent https://www.cis.uni-muenchen.de/~schmid/tools/TreeTagger/data/german.par.gz # language parameter file\n",
    "\n",
    "#tar -xzf tree-tagger-linux-3.2.4.tar.gz\n",
    "tar -xzf tree-tagger-MacOSX-3.2.3.tar.gz\n",
    "bash install-tagger.sh"
   ]
  },
  {
   "cell_type": "code",
   "execution_count": 77,
   "metadata": {},
   "outputs": [
    {
     "name": "stdout",
     "output_type": "stream",
     "text": [
      "Dies\tPDS\tdies\n",
      "ist\tVAFIN\tsein\n",
      "nur\tADV\tnur\n",
      "ein\tART\teine\n",
      "Test\tNN\tTest\n",
      ".\t$.\t.\n"
     ]
    },
    {
     "name": "stderr",
     "output_type": "stream",
     "text": [
      "\treading parameters ...\n",
      "\ttagging ...\n",
      "\t finished.\n"
     ]
    }
   ],
   "source": [
    "%%bash\n",
    "echo \"Dies ist nur ein Test.\" | tree-tagger/cmd/tree-tagger-german"
   ]
  },
  {
   "cell_type": "code",
   "execution_count": 75,
   "metadata": {},
   "outputs": [],
   "source": [
    "#!{sys.executable} -m pip install --upgrade pip treetaggerwrapper\n",
    "import treetaggerwrapper as TTW  "
   ]
  },
  {
   "cell_type": "code",
   "execution_count": 76,
   "metadata": {},
   "outputs": [
    {
     "name": "stdout",
     "output_type": "stream",
     "text": [
      "['Zwei\\tCARD\\tzwei', 'Dinge\\tNN\\tDing', 'sind\\tVAFIN\\tsein', 'unendlich\\tADJD\\tunendlich', ',\\t$,\\t,', 'das\\tART\\tdie', 'Universum\\tNN\\tUniversum', 'und\\tKON\\tund', 'die\\tART\\tdie', 'menschliche\\tADJA\\tmenschlich', 'Dummheit\\tNN\\tDummheit', ',\\t$,\\t,', 'aber\\tADV\\taber', 'bei\\tAPPR\\tbei', 'dem\\tART\\tdie', 'Universum\\tNN\\tUniversum', 'bin\\tVAFIN\\tsein', 'ich\\tPPER\\tich', 'mir\\tPRF\\tich', 'noch\\tADV\\tnoch', 'nicht\\tPTKNEG\\tnicht', 'ganz\\tADV\\tganz', 'sicher\\tADJD\\tsicher', '.\\t$.\\t.']\n"
     ]
    }
   ],
   "source": [
    "tagger = TTW.TreeTagger(TAGLANG='de', TAGDIR='./tree-tagger')\n",
    "tags = tagger.tag_text(\"Zwei Dinge sind unendlich, das Universum und die menschliche Dummheit, aber bei dem Universum bin ich mir noch nicht ganz sicher.\")\n",
    "print(tags)"
   ]
  },
  {
   "cell_type": "markdown",
   "metadata": {},
   "source": [
    "## Übungsaufgaben 9\n",
    "\n",
    "### Aufgabe 1 (Vergleich von POS-Taggern)\n",
    "\n",
    "Laden Sie vier weitere\n",
    "[TCF-kodierte](https://weblicht.sfs.uni-tuebingen.de/weblichtwiki/index.php/The_TCF_Format)\n",
    "Dateien herunter\n",
    "(z.B. [Drude](https://www.deutschestextarchiv.de/book/download_fulltcf/16377),\n",
    "[Sachs](https://www.deutschestextarchiv.de/book/download_fulltcf/16178),\n",
    "[Brehm](https://www.deutschestextarchiv.de/book/download_fulltcf/25157)\n",
    "und\n",
    "[Bölsche](https://www.deutschestextarchiv.de/book/download_fulltcf/16552)).\n",
    "Verwenden Sie diese Dateien und die von letzter Woche\n",
    "([Altmann](https://www.deutschestextarchiv.de/book/download_fulltcf/16299))\n",
    "um wie heute in der Vorlesung einen Bigramm-Tagger auf einer\n",
    "Trainingsmenge zu trainieren und auf einer Testmenge auszuwerten.\n",
    "\n",
    "Installieren Sie den TreeTagger und den Treetaggerwrapper und\n",
    "schreiben Sie eine entsprechende Tagger-Klasse, die Token mit Hilfe\n",
    "des TreeTaggers annotiert.  Werten Sie diesen Tagger auf der\n",
    "Trainingsmenge aus und vergleichen Sie die Ergebnisse mit denen des\n",
    "Bigramm-Taggers.\n"
   ]
  }
 ],
 "metadata": {
  "interpreter": {
   "hash": "656953c21547a91cfb2057a5cd28b058012b7084abb49e89974147a4ece772c4"
  },
  "kernelspec": {
   "display_name": "Python 3",
   "language": "python",
   "name": "python3"
  },
  "language_info": {
   "codemirror_mode": {
    "name": "ipython",
    "version": 3
   },
   "file_extension": ".py",
   "mimetype": "text/x-python",
   "name": "python",
   "nbconvert_exporter": "python",
   "pygments_lexer": "ipython3",
   "version": "3.6.1"
  }
 },
 "nbformat": 4,
 "nbformat_minor": 2
}
