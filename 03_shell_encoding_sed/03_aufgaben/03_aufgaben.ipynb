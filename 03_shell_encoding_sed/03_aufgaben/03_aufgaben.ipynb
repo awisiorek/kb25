{
 "cells": [
  {
   "cell_type": "markdown",
   "id": "b75a96b3",
   "metadata": {},
   "source": [
    "# Übungsaufgaben 3\n"
   ]
  },
  {
   "cell_type": "markdown",
   "id": "4b2968a9",
   "metadata": {},
   "source": [
    "\n",
    "## 1. Aufgabe `count_glyphs` (Encoding)\n",
    "Schreiben Sie ein Programm (awk, Shell-Skript oder Python), das die\n",
    "Anzahl der Buchstaben in einem Text zählt, wobei kombinierende Zeichen\n",
    "nicht berücksichtigt werden. Das Programm soll von `stdin` lesen und\n",
    "die Anzahl der Zeichen nach `stdout` schreiben (wie z.B. `wc`).\n",
    "\n",
    "```bash\n",
    "$ echo -n \"Hallo aus München!\" | uconv -f utf8 -t utf8 -x nfd | ./count_glyphs.py\n",
    "18\n",
    "$\n",
    "```\n"
   ]
  },
  {
   "cell_type": "markdown",
   "id": "9cdd90cf",
   "metadata": {},
   "source": [
    "#### Erläuterung\n",
    "\n",
    "Der String `Hallo aus München!` enthält 18 Zeichen/Buchstaben, 17 davon ASCII-Zeichen. Der Umlaut `ü` kann entweder über ein Unicode-Zeichen repräsentiert werden (dann mit 2 Byte kodiert), oder als Kombination aus zweien (`u`+combining-character).\n",
    "\n",
    "Wenn mit `nfd` diese zweite, dekomponierte Repräsentationsform erzwungen wird, zählt `wc` also insgesamt 19 Zeichen:"
   ]
  },
  {
   "cell_type": "code",
   "execution_count": 200,
   "id": "fc517d03",
   "metadata": {},
   "outputs": [
    {
     "name": "stdout",
     "output_type": "stream",
     "text": [
      "      19\n"
     ]
    }
   ],
   "source": [
    "%%bash\n",
    "echo -n \"Hallo aus München!\" | uconv -f utf8 -t utf8 -x nfd | wc -m"
   ]
  },
  {
   "cell_type": "markdown",
   "id": "70c29260",
   "metadata": {},
   "source": [
    "Das  `counts_glyphs`-Programm soll diese Mitzählen kombinierender Zeichen verhindern."
   ]
  },
  {
   "cell_type": "markdown",
   "id": "04040eda",
   "metadata": {},
   "source": [
    "### Lösung 1a: count_glyphs.bash mit uconv und nfc\n",
    "\n",
    "- Verwendung von uconv zur Herstellung der komponierten Normalform (nfc) aus dem erzwungenen (nfd) dekomponierten Input, anschließend wc zur Zeichenzählung:\n",
    "\n",
    "#### count_glyphs.bash:"
   ]
  },
  {
   "cell_type": "code",
   "execution_count": null,
   "id": "88339991",
   "metadata": {},
   "outputs": [],
   "source": [
    "%%bash\n",
    "#!/bin/bash\n",
    "uconv -f utf8 -t utf8 -x nfc | wc -m"
   ]
  },
  {
   "cell_type": "code",
   "execution_count": null,
   "id": "56715480",
   "metadata": {},
   "outputs": [],
   "source": [
    "# nfd: decomposition \n",
    "# nfc: composition"
   ]
  },
  {
   "cell_type": "markdown",
   "id": "171ecd58",
   "metadata": {},
   "source": [
    "#### Usage:"
   ]
  },
  {
   "cell_type": "code",
   "execution_count": 189,
   "id": "c15ccd24",
   "metadata": {},
   "outputs": [
    {
     "name": "stdout",
     "output_type": "stream",
     "text": [
      "18\n"
     ]
    }
   ],
   "source": [
    "%%bash\n",
    "echo -n \"Hallo aus München!\" | uconv -f utf8 -t utf8 -x nfd | ./count_glyphs.py"
   ]
  },
  {
   "cell_type": "markdown",
   "id": "86c52829",
   "metadata": {},
   "source": [
    "### Lösung 1b: count_glyphs_mac.bash mit iconv und utf8-mac-Kodierung (nur Mac OS X, aber veraltet)\n",
    "\n",
    "Einige Versionen von iconv unter Mac OS X haben einen entsprechende Herstellung der komponierten Normalform (nfc) unterstützt (utf8-mac)."
   ]
  },
  {
   "cell_type": "code",
   "execution_count": 207,
   "id": "91fd7301",
   "metadata": {},
   "outputs": [
    {
     "name": "stdout",
     "output_type": "stream",
     "text": [
      "ANSI_X3.4-1968 ANSI_X3.4-1986 ASCII CP367 IBM367 ISO-IR-6 ISO646-US ISO_646.IRV:1991 US US-ASCII CSASCII\n",
      "UTF-8\n",
      "ISO-10646-UCS-2 UCS-2 CSUNICODE\n",
      "UCS-2BE UNICODE-1-1 UNICODEBIG CSUNICODE11\n",
      "UCS-2LE UNICODELITTLE\n"
     ]
    }
   ],
   "source": [
    "%%bash\n",
    "#UTF-8-MAC Kodierung nicht mehr im aktuellen iconv unter Mac OS X enthalten:\n",
    "iconv -l | sed 5q"
   ]
  },
  {
   "cell_type": "markdown",
   "id": "0a697b86",
   "metadata": {},
   "source": [
    "\n",
    "#### count_glyphs_mac.bash:"
   ]
  },
  {
   "cell_type": "code",
   "execution_count": null,
   "id": "18fe721e",
   "metadata": {},
   "outputs": [],
   "source": [
    "%%bash\n",
    "#!/bin/bash\n",
    "iconv -f utf8-mac -t utf8 | wc -m"
   ]
  },
  {
   "cell_type": "code",
   "execution_count": null,
   "id": "34ad16f0",
   "metadata": {},
   "outputs": [],
   "source": [
    "# utf8-mac: decomposed\n",
    "# utf8: composed"
   ]
  },
  {
   "cell_type": "markdown",
   "id": "f7cb8808",
   "metadata": {},
   "source": [
    "#### Usage:"
   ]
  },
  {
   "cell_type": "code",
   "execution_count": 189,
   "id": "52393adc",
   "metadata": {},
   "outputs": [
    {
     "name": "stdout",
     "output_type": "stream",
     "text": [
      "18\n"
     ]
    }
   ],
   "source": [
    "%%bash\n",
    "echo -n \"Hallo aus München!\" | iconv -f utf8 -t utf8-mac | ./count_glyphs_mac.bash"
   ]
  },
  {
   "cell_type": "markdown",
   "id": "bf397837",
   "metadata": {},
   "source": [
    "### Lösung 2a: count_glyphs_nfc.py mit unicodedata.normalize\n",
    "\n",
    "Diese Lösung mit Python transformiert (genau wie die bash-Lösungen zuvor), das Input in die komponierte Normalform und berechnet anschließend die Länge des UTF-8-kodierten Strings:\n",
    "\n",
    "\n",
    "#### count_glyphs_nfc.py:"
   ]
  },
  {
   "cell_type": "code",
   "execution_count": null,
   "id": "b016eb64",
   "metadata": {},
   "outputs": [],
   "source": [
    "#!/usr/bin/env python\n",
    "import sys\n",
    "import unicodedata\n",
    "\n",
    "print(len(unicodedata.normalize('NFC', sys.stdin.read())))"
   ]
  },
  {
   "cell_type": "code",
   "execution_count": null,
   "id": "39a7a2d2",
   "metadata": {},
   "outputs": [],
   "source": [
    "# NFD: decomposed\n",
    "# NFC: composed"
   ]
  },
  {
   "cell_type": "markdown",
   "id": "dfcbe80c",
   "metadata": {},
   "source": [
    "\n",
    "Verwendung eines Hilfprogramms `decompose.py` (`'NFD` statt `'NFC'`), um die Dekomponierung zu erzwingen (analog zur Verwendung von `nfd` mit uconv oben):"
   ]
  },
  {
   "cell_type": "markdown",
   "id": "fc60ccec",
   "metadata": {},
   "source": [
    "#### decompose.py:"
   ]
  },
  {
   "cell_type": "code",
   "execution_count": null,
   "id": "2374ac43",
   "metadata": {},
   "outputs": [],
   "source": [
    "#!/usr/bin/env python\n",
    "import sys\n",
    "import unicodedata\n",
    "\n",
    "print(unicodedata.normalize('NFD', sys.stdin.read()), end='')"
   ]
  },
  {
   "cell_type": "code",
   "execution_count": 197,
   "id": "dd57483d",
   "metadata": {},
   "outputs": [
    {
     "name": "stdout",
     "output_type": "stream",
     "text": [
      "      19\n"
     ]
    }
   ],
   "source": [
    "%%bash\n",
    "echo -n \"Hallo aus München!\" | ./decompose.py | wc -m"
   ]
  },
  {
   "cell_type": "code",
   "execution_count": 196,
   "id": "027490fc",
   "metadata": {},
   "outputs": [
    {
     "name": "stdout",
     "output_type": "stream",
     "text": [
      "      19\n"
     ]
    }
   ],
   "source": [
    "%%bash\n",
    "#könnte auch als Python One-Liner geschrieben werden:\n",
    "echo -n \"Hallo aus München!\" | \n",
    "python -c \"import sys, unicodedata; print(unicodedata.normalize('NFD', sys.stdin.read()), end='')\" | \n",
    "wc -m"
   ]
  },
  {
   "cell_type": "markdown",
   "id": "1b253d13",
   "metadata": {},
   "source": [
    "#### Usage:"
   ]
  },
  {
   "cell_type": "code",
   "execution_count": 198,
   "id": "2adb19a0",
   "metadata": {},
   "outputs": [
    {
     "name": "stdout",
     "output_type": "stream",
     "text": [
      "18\n"
     ]
    }
   ],
   "source": [
    "%%bash\n",
    "echo -n \"Hallo aus München!\" | ./decompose.py | ./count_glyphs_nfc.py"
   ]
  },
  {
   "cell_type": "markdown",
   "id": "9b504b26",
   "metadata": {},
   "source": [
    "### Erläuterung:\n",
    "\n",
    "#### composed (Default Encoding):"
   ]
  },
  {
   "cell_type": "code",
   "execution_count": 138,
   "id": "e20013c7",
   "metadata": {},
   "outputs": [
    {
     "name": "stdout",
     "output_type": "stream",
     "text": [
      "00000000  c3 bc                                             |ü|\n",
      "00000002\n"
     ]
    }
   ],
   "source": [
    "%%bash\n",
    "echo -n \"ü\" | hexdump -C"
   ]
  },
  {
   "cell_type": "code",
   "execution_count": 140,
   "id": "7af26607",
   "metadata": {},
   "outputs": [
    {
     "name": "stdout",
     "output_type": "stream",
     "text": [
      "       1\n"
     ]
    }
   ],
   "source": [
    "%%bash\n",
    "#count chars\n",
    "echo -n \"ü\" | wc -m "
   ]
  },
  {
   "cell_type": "code",
   "execution_count": 141,
   "id": "29ac357e",
   "metadata": {},
   "outputs": [
    {
     "name": "stdout",
     "output_type": "stream",
     "text": [
      "       2\n"
     ]
    }
   ],
   "source": [
    "%%bash\n",
    "#count bytes\n",
    "echo -n \"ü\" | wc -c"
   ]
  },
  {
   "cell_type": "markdown",
   "id": "406ca87d",
   "metadata": {},
   "source": [
    "#### decomposed:"
   ]
  },
  {
   "cell_type": "code",
   "execution_count": 142,
   "id": "0b3d5ff0",
   "metadata": {},
   "outputs": [
    {
     "name": "stdout",
     "output_type": "stream",
     "text": [
      "00000000  75 cc 88                                          |u?.|\n",
      "00000003\n"
     ]
    }
   ],
   "source": [
    "%%bash\n",
    "# u = 75 (ASCII-Zeichen)\n",
    "echo -n \"ü\" | ./decompose.py | hexdump -C"
   ]
  },
  {
   "cell_type": "code",
   "execution_count": 143,
   "id": "1163668d",
   "metadata": {},
   "outputs": [
    {
     "name": "stdout",
     "output_type": "stream",
     "text": [
      "       2\n"
     ]
    }
   ],
   "source": [
    "%%bash\n",
    "#count chars (u + combining character)\n",
    "echo -n \"ü\" | ./decompose.py | wc -m "
   ]
  },
  {
   "cell_type": "code",
   "execution_count": 145,
   "id": "6b64c92a",
   "metadata": {},
   "outputs": [
    {
     "name": "stdout",
     "output_type": "stream",
     "text": [
      "       3\n"
     ]
    }
   ],
   "source": [
    "%%bash\n",
    "#count bytes\n",
    "echo -n \"ü\" | ./decompose.py | wc -c "
   ]
  },
  {
   "cell_type": "markdown",
   "id": "6492d3bd",
   "metadata": {},
   "source": [
    "### Lösung 2b: count_glyphs.py mit unicodedata.combining\n",
    "\n",
    "Diese Lösung zählt nur nicht kombinierende Zeichen:\n",
    "\n",
    "#### count_glyphs.py:"
   ]
  },
  {
   "cell_type": "code",
   "execution_count": null,
   "id": "b0e7489d",
   "metadata": {},
   "outputs": [],
   "source": [
    "#!/usr/bin/env python3\n",
    "import unicodedata\n",
    "import sys\n",
    "\n",
    "count = 0\n",
    "other = 0\n",
    "for chr in sys.stdin.read():\n",
    "    x = unicodedata.combining(chr)\n",
    "    if x == 0:\n",
    "        count += 1\n",
    "    else: \n",
    "        other += 1\n",
    "print(\"Buchstaben: \", count)\n",
    "print(\"kombinierende Zeichen: \", other)"
   ]
  },
  {
   "cell_type": "markdown",
   "id": "37c67aab",
   "metadata": {},
   "source": [
    "#### Usage:"
   ]
  },
  {
   "cell_type": "code",
   "execution_count": 164,
   "id": "2f280f36",
   "metadata": {},
   "outputs": [
    {
     "name": "stdout",
     "output_type": "stream",
     "text": [
      "Buchstaben:  1\n",
      "kombinierende Zeichen:  1\n"
     ]
    }
   ],
   "source": [
    "%%bash\n",
    "echo -n \"ü\" | ./decompose.py | ./count_glyphs.py"
   ]
  },
  {
   "cell_type": "markdown",
   "id": "cb29eae9",
   "metadata": {},
   "source": [
    "#### nicht alle kombinierenden Unicode-Characters werden erkannt:"
   ]
  },
  {
   "cell_type": "code",
   "execution_count": 165,
   "id": "c60b7ba4",
   "metadata": {},
   "outputs": [
    {
     "name": "stdout",
     "output_type": "stream",
     "text": [
      "Buchstaben:  2\n",
      "kombinierende Zeichen:  0\n"
     ]
    }
   ],
   "source": [
    "%%bash\n",
    "#Flagge Andorra = Länderkennzeichen AD (2 kombinierende Unicodecharacters, werden durch 1 Glyphe dargestellt)\n",
    "echo -n \"🇦🇩\" | ./decompose.py | ./count_glyphs.py"
   ]
  },
  {
   "cell_type": "code",
   "execution_count": 166,
   "id": "8cf853d9",
   "metadata": {},
   "outputs": [
    {
     "name": "stdout",
     "output_type": "stream",
     "text": [
      "2\n"
     ]
    }
   ],
   "source": [
    "import unicodedata\n",
    "nfc = unicodedata.normalize('NFC', \"🇦🇩\")\n",
    "print(len(nfc))"
   ]
  },
  {
   "cell_type": "code",
   "execution_count": 210,
   "id": "435b06be",
   "metadata": {},
   "outputs": [
    {
     "name": "stdout",
     "output_type": "stream",
     "text": [
      "00000000  f0 9f 87 a6 f0 9f 87 a9                           |?..??..?|                    \n",
      "0000008\n"
     ]
    }
   ],
   "source": [
    "%%bash\n",
    "echo -n \"🇦🇩\" | hexdump -C"
   ]
  },
  {
   "cell_type": "code",
   "execution_count": 168,
   "id": "247c97f1",
   "metadata": {},
   "outputs": [
    {
     "data": {
      "text/plain": [
       "b'\\xf0\\x9f\\x87\\xa6\\xf0\\x9f\\x87\\xa9'"
      ]
     },
     "execution_count": 168,
     "metadata": {},
     "output_type": "execute_result"
    }
   ],
   "source": [
    "\"🇦🇩\".encode() #A-Ländercode D-Ländercode (combining character)"
   ]
  },
  {
   "cell_type": "markdown",
   "id": "d6476429",
   "metadata": {},
   "source": [
    "## 2. Aufgabe `pchars` (Encoding)\n",
    "Schreiben Sie ein Programm (awk, Shell-Skript oder Python), das für\n",
    "jedes Zeichen in einem Text zeilenweise, das Zeichen, seine\n",
    "Unicodenummer und seine Darstellung als UTF-8 kodiertes Zeichen\n",
    "(hexadezimal) ausgibt. Das Programm soll von `stdin` lesen und die\n",
    "Anzahl der Zeichen nach `stdout` schreiben.\n",
    "\n",
    "```bash\n",
    "$ echo 'Aü' | ./pchars.py\n",
    "A U+0041 0x41\n",
    "ü U+00FC 0xc3bc\n",
    "$\n",
    "```"
   ]
  },
  {
   "cell_type": "markdown",
   "id": "50a6da3f",
   "metadata": {},
   "source": [
    "#### pchars.py:"
   ]
  },
  {
   "cell_type": "code",
   "execution_count": 212,
   "id": "ba88a636",
   "metadata": {},
   "outputs": [],
   "source": [
    "#!/usr/bin/env python3\n",
    "import sys\n",
    "\n",
    "for c in sys.stdin.read():\n",
    "    print(f\"{c} U+{ord(c):04X}\", end=\" \") #Integer-Wert von c (ord()) in hexadezimal umwandeln (mit format-String)\n",
    "    bs = c.encode(encoding='UTF-8') #umwandeln UTF-8-Kodierung in Byte-Array\n",
    "    print(\"0x\", end=\"\")\n",
    "    for b in bs:\n",
    "        print(f\"{b:02x}\", end=\"\") # Ausgabe hexadezimale UTF-8-Kodierung\n",
    "    print()"
   ]
  },
  {
   "cell_type": "markdown",
   "id": "c4cad888",
   "metadata": {},
   "source": [
    "#### Usage:"
   ]
  },
  {
   "cell_type": "code",
   "execution_count": 213,
   "id": "972cb0c6",
   "metadata": {},
   "outputs": [
    {
     "name": "stdout",
     "output_type": "stream",
     "text": [
      "M U+004D 0x4d\n",
      "ü U+00FC 0xc3bc\n"
     ]
    }
   ],
   "source": [
    "%%bash\n",
    "echo -n \"Mü\" | ./pchars.py"
   ]
  },
  {
   "cell_type": "code",
   "execution_count": 214,
   "id": "441a1268",
   "metadata": {},
   "outputs": [
    {
     "name": "stdout",
     "output_type": "stream",
     "text": [
      "M U+004D 0x4d\n",
      "u U+0075 0x75\n",
      "̈ U+0308 0xcc88\n"
     ]
    }
   ],
   "source": [
    "%%bash\n",
    "echo -n \"Mü\" | ./decompose.py | ./pchars.py"
   ]
  },
  {
   "cell_type": "code",
   "execution_count": 215,
   "id": "4e936d74",
   "metadata": {},
   "outputs": [
    {
     "name": "stdout",
     "output_type": "stream",
     "text": [
      "🇦 U+1F1E6 0xf09f87a6\n",
      "🇩 U+1F1E9 0xf09f87a9\n"
     ]
    }
   ],
   "source": [
    "%%bash\n",
    "echo -n \"🇦🇩\" | ./pchars.py"
   ]
  },
  {
   "cell_type": "code",
   "execution_count": 216,
   "id": "64388963",
   "metadata": {},
   "outputs": [
    {
     "name": "stdout",
     "output_type": "stream",
     "text": [
      "🇦 U+1F1E6 0xf09f87a6\n",
      "🇩 U+1F1E9 0xf09f87a9\n"
     ]
    }
   ],
   "source": [
    "%%bash\n",
    "echo -n \"🇦🇩\" | ./decompose.py | ./pchars.py"
   ]
  },
  {
   "cell_type": "markdown",
   "id": "1dd969f2",
   "metadata": {},
   "source": [
    "## 3. Aufgabe `gres` (sed)\n",
    "Schreiben Sie ein Skript `gres.bash`, das für einen regulären Ausdruck\n",
    "RE (im ERE-Format), eine Ersetzung REPL und einem Dateipfad FILE von\n",
    "der Kommandozeile, diejenigen Zeilen in der Datei FILE ausgibt, auf\n",
    "die RE passt. Dabei soll jedes Vorkommen von RE in den ausgegebenen\n",
    "Zeilen durch REPL ersetzt werden.\n",
    "```bash\n",
    "$cat file.txt\n",
    "Fuchs / du\n",
    "hast die\n",
    "Gans gestohlen.\n",
    "./gres.bash '[A-Z]' '00' file.txt\n",
    "00uchs / du\n",
    "00ans gestohlen.\n",
    "$\n",
    "```\n",
    "\n",
    "Wegen den übergebenen regulären Ausdrücken auf der Kommandozeile\n",
    "können Fehler im Skript auftreten.  Welche Fehler können auftreten und\n",
    "wie kann man diese Fehler beheben?\n"
   ]
  },
  {
   "cell_type": "markdown",
   "id": "d99ab7e8",
   "metadata": {},
   "source": [
    "#### gres.bash:"
   ]
  },
  {
   "cell_type": "code",
   "execution_count": null,
   "id": "ed5b4665",
   "metadata": {},
   "outputs": [],
   "source": [
    "%%bash\n",
    "\n",
    "#!/bin/bash\n",
    "# sed & awk 2nd Edition, Dale Dougherty & Arnold Robbins, O'Reilly\n",
    "\n",
    "if [[ $# -lt 3 ]]; then\n",
    "    echo \"Usage $0 PATTERN REPLACEMENT FILE\" >&2\n",
    "    exit 1\n",
    "fi\n",
    "\n",
    "pattern=$1\n",
    "replacement=$2\n",
    "\n",
    "if [[ -f \"$3\" ]]; then\n",
    "    file=$3\n",
    "else\n",
    "    echo $3 is not a file. >&2\n",
    "    exit 1\n",
    "fi\n",
    "\n",
    "## LOESUNG A:\n",
    "#sed -n -e \"s/$pattern/$replacement/gp\" \"$file\"\n",
    "\n",
    "## LOESUNG B (notwendig, wenn \"/\" in pattern oder replacement):\n",
    "A=\"$(echo | tr '\\012' '\\001')\" #Ersatz NEWLINE mit NUL (nicht-druckbares Steuerzeichen als Separator als universelle Lösung)\n",
    "sed -n -e \"s$A$pattern$A$replacement${A}gp\" \"$file\""
   ]
  },
  {
   "cell_type": "markdown",
   "id": "22772c39",
   "metadata": {},
   "source": [
    "#### Usage:"
   ]
  },
  {
   "cell_type": "code",
   "execution_count": null,
   "id": "07152594",
   "metadata": {},
   "outputs": [
    {
     "name": "stderr",
     "output_type": "stream",
     "text": [
      "Usage ./gres.bash PATTERN REPLACEMENT FILE\n"
     ]
    }
   ],
   "source": [
    "%%bash\n",
    "./gres.bash"
   ]
  },
  {
   "cell_type": "code",
   "execution_count": null,
   "id": "933891a7",
   "metadata": {},
   "outputs": [
    {
     "name": "stdout",
     "output_type": "stream",
     "text": [
      "hast dia\n",
      "Gans gastohlan\n"
     ]
    }
   ],
   "source": [
    "%%bash\n",
    "./gres.bash e a file.txt"
   ]
  },
  {
   "cell_type": "code",
   "execution_count": null,
   "id": "c5294115",
   "metadata": {},
   "outputs": [
    {
     "name": "stdout",
     "output_type": "stream",
     "text": [
      "00uchs / du\n",
      "00ans gestohlen\n"
     ]
    }
   ],
   "source": [
    "%%bash\n",
    "./gres.bash '[A-Z]' '00' file.txt"
   ]
  },
  {
   "cell_type": "code",
   "execution_count": null,
   "id": "c5592315",
   "metadata": {},
   "outputs": [
    {
     "name": "stdout",
     "output_type": "stream",
     "text": [
      "Fuchs 00 du\n"
     ]
    }
   ],
   "source": [
    "%%bash\n",
    "./gres.bash '/' '00' file.txt"
   ]
  },
  {
   "cell_type": "markdown",
   "id": "df89ec88",
   "metadata": {},
   "source": [
    "### Erläuterung für eigenes Trennerzeichen:"
   ]
  },
  {
   "cell_type": "code",
   "execution_count": null,
   "id": "22acf97b",
   "metadata": {},
   "outputs": [
    {
     "name": "stderr",
     "output_type": "stream",
     "text": [
      "sed: 1: \"s///00/gp\n",
      "\": bad flag in substitute command: '0'\n"
     ]
    }
   ],
   "source": [
    "%%bash\n",
    "#Fehler bei Versuch, \"/\" zu ersetzen ohne neues Trennerzeichen (sed -n -e \"s/$pattern/$replacement/gp\" \"$file\"):\n",
    "./gres.bash '/' '00' file.txt"
   ]
  },
  {
   "cell_type": "code",
   "execution_count": null,
   "id": "1e9dd912",
   "metadata": {},
   "outputs": [
    {
     "name": "stderr",
     "output_type": "stream",
     "text": [
      "sed: 1: \"s///_/gp\n",
      "\": bad flag in substitute command: '_'\n"
     ]
    }
   ],
   "source": [
    "%%bash\n",
    "echo -e \"1/2\" | sed -n -e s///_/gp"
   ]
  },
  {
   "cell_type": "code",
   "execution_count": null,
   "id": "d95f6820",
   "metadata": {},
   "outputs": [
    {
     "name": "stdout",
     "output_type": "stream",
     "text": [
      "1_2\n"
     ]
    }
   ],
   "source": [
    "%%bash\n",
    "echo -e \"1/2\" | sed -n -e s!/!_!gp"
   ]
  },
  {
   "cell_type": "markdown",
   "id": "b93d3aee",
   "metadata": {},
   "source": [
    "\n",
    "### Erläuterungen zum sed-Befehl:\n",
    "\n",
    "`sed -n -e s/pattern/replacement/gp`\n",
    "\n",
    "- `s/.../.../g` globale Ersetzung (alle Matches in einer Zeile)\n",
    "- `-n`-Option zusammen mit `p`-Befehl: druckt nur die Zeilen aus, in denen Ersetzung vorgenommen wurde\n",
    "  - (Default-Verhalten sed: Befehl wie Substitute auf jeder Zeile anwenden und Ergebnis ausgeben)\n",
    "- `-e`-Option für Verkettung von sed-Befehlen, hier nicht unbedingt nötig\n",
    "\n",
    "#### Beispiele:"
   ]
  },
  {
   "cell_type": "code",
   "execution_count": null,
   "id": "8d35b393",
   "metadata": {},
   "outputs": [
    {
     "name": "stdout",
     "output_type": "stream",
     "text": [
      "feo\n",
      "fii\n"
     ]
    }
   ],
   "source": [
    "%%bash\n",
    "#einfache Ersetzung\n",
    "echo -e \"foo\\nfii\" | sed s/o/e/"
   ]
  },
  {
   "cell_type": "code",
   "execution_count": null,
   "id": "d8694704",
   "metadata": {},
   "outputs": [
    {
     "name": "stdout",
     "output_type": "stream",
     "text": [
      "fee\n",
      "fii\n"
     ]
    }
   ],
   "source": [
    "%%bash\n",
    "#globale Ersetzung\n",
    "echo -e \"foo\\nfii\" | sed s/o/e/g"
   ]
  },
  {
   "cell_type": "code",
   "execution_count": null,
   "id": "2c69f93a",
   "metadata": {},
   "outputs": [],
   "source": [
    "%%bash\n",
    "#mit n-Option: Unterdrückung Ausgabe\n",
    "echo -e \"foo\\nfii\" | sed -n s/o/e/g"
   ]
  },
  {
   "cell_type": "code",
   "execution_count": null,
   "id": "6acd5af0",
   "metadata": {},
   "outputs": [
    {
     "name": "stdout",
     "output_type": "stream",
     "text": [
      "fee\n"
     ]
    }
   ],
   "source": [
    "%%bash\n",
    "#mit zusätzlichem p: print nur der Zeilen mit Ersetzung\n",
    "echo -e \"foo\\nfii\" | sed -n s/o/e/gp"
   ]
  },
  {
   "cell_type": "code",
   "execution_count": null,
   "id": "e20beadf",
   "metadata": {},
   "outputs": [
    {
     "name": "stdout",
     "output_type": "stream",
     "text": [
      "fee\n"
     ]
    }
   ],
   "source": [
    "%%bash\n",
    "#Beispiel für Verkettung (Beschränkung auf erste Zeile mit 1q):\n",
    "echo -e \"foo\\nfoo\" | sed -e s/o/e/g -e 1q"
   ]
  }
 ],
 "metadata": {
  "kernelspec": {
   "display_name": "Python 3 (ipykernel)",
   "language": "python",
   "name": "python3"
  },
  "language_info": {
   "codemirror_mode": {
    "name": "ipython",
    "version": 3
   },
   "file_extension": ".py",
   "mimetype": "text/x-python",
   "name": "python",
   "nbconvert_exporter": "python",
   "pygments_lexer": "ipython3",
   "version": "3.9.12"
  }
 },
 "nbformat": 4,
 "nbformat_minor": 5
}
