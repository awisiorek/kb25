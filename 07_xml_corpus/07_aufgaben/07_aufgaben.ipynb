{
 "cells": [
  {
   "cell_type": "markdown",
   "id": "95b687fe",
   "metadata": {},
   "source": [
    "# Übungsaufgaben 7\n"
   ]
  },
  {
   "cell_type": "markdown",
   "id": "e44bc80b",
   "metadata": {},
   "source": [
    "## Aufgabe 1 (Verarbeitung BNC-XML-Korpus)\n",
    "\n",
    "Schreiben Sie ein Python-Programm, das \n",
    "\n",
    "- ein Sample des British National Corpus mit Hilfe des NLTK-XML-Korpusreaders (https://www.nltk.org/_modules/nltk/corpus/reader/bnc.html) einliest, \n",
    "\n",
    "- die getaggten Wörter und Sätze (mit `tagged_words()` bzw. `tagged_sents()`) ausgibt,\n",
    "\n",
    "- Bigramme berechnet,\n",
    "\n",
    "- und aus dem XML-Dokumenteninhalt (`<teiHeader>`) die Metadaten mit `xml.etree` extrahiert.\n",
    "\n",
    "Sie können das BNC Sample entweder über NLTK herunterladen: \n",
    "```python\n",
    "nltk.download('bnc')\n",
    "```\n",
    "oder hier manuell herunterladen: https://ota.bodleian.ox.ac.uk/repository/xmlui/handle/20.500.12024/2553"
   ]
  },
  {
   "cell_type": "markdown",
   "id": "e3098bc6",
   "metadata": {},
   "source": [
    "### Einlesen und NLTK-Korpusmethoden:"
   ]
  },
  {
   "cell_type": "code",
   "execution_count": 1,
   "id": "ff5a9c68",
   "metadata": {},
   "outputs": [],
   "source": [
    "import nltk\n",
    "from nltk.corpus.reader.bnc import BNCCorpusReader\n",
    "\n",
    "###nltk.download('bnc')\n",
    "\n",
    "bnc_reader = BNCCorpusReader(root=\"BNC-sample/Texts\", fileids=r'(\\w*)/\\w*\\.xml')"
   ]
  },
  {
   "cell_type": "code",
   "execution_count": 2,
   "id": "cedb246b",
   "metadata": {},
   "outputs": [
    {
     "name": "stdout",
     "output_type": "stream",
     "text": [
      "Texts\n",
      "bncHdr.xml\n",
      "\n",
      "BNC-sample/Texts:\n",
      "news\n",
      "\n",
      "BNC-sample/Texts/news:\n",
      "A1K.xml\n",
      "A3E.xml\n"
     ]
    }
   ],
   "source": [
    "%%bash\n",
    "ls -R BNC-sample"
   ]
  },
  {
   "cell_type": "code",
   "execution_count": 3,
   "id": "64680416",
   "metadata": {},
   "outputs": [
    {
     "data": {
      "text/plain": [
       "4202"
      ]
     },
     "execution_count": 3,
     "metadata": {},
     "output_type": "execute_result"
    }
   ],
   "source": [
    "len(bnc_reader.words())"
   ]
  },
  {
   "cell_type": "code",
   "execution_count": 4,
   "id": "3ca1dbed",
   "metadata": {},
   "outputs": [
    {
     "name": "stdout",
     "output_type": "stream",
     "text": [
      "PUB ROCK / Pint-sized rock ‘ n ’ rollers : Jim White steps back in time to sample the fare at his local By JIM WHITE According to those on the inside track , Raggahouse is the latest fad in clubland . This hybrid mix of reggae and hip hop follows acid jazz , Belgian New Beat and acid swing — the wholly forgettable contribution of Jive Bunny — as the sound to set disco feet tapping . But no matter how often the archives are ransacked for old genres to bastardise , you do n't have to be at\n"
     ]
    }
   ],
   "source": [
    "print(*bnc_reader.words()[:100]) # * = unpacking words-list "
   ]
  },
  {
   "cell_type": "code",
   "execution_count": 5,
   "id": "871c486f",
   "metadata": {},
   "outputs": [
    {
     "name": "stdout",
     "output_type": "stream",
     "text": [
      "[('ROCK', 'SUBST'), ('/', 'PUN'), ('Pint-sized', 'ADJ'), ('rock', 'SUBST'), ('‘', 'PUQ'), ('n', 'SUBST'), ('’', 'PUQ'), ('rollers', 'SUBST'), (':', 'PUN'), ('Jim', 'SUBST'), ('White', 'SUBST'), ('steps', 'VERB'), ('back', 'ADV'), ('in', 'PREP'), ('time', 'SUBST'), ('to', 'PREP'), ('sample', 'VERB'), ('the', 'ART'), ('fare', 'SUBST')]\n"
     ]
    }
   ],
   "source": [
    "print(bnc_reader.tagged_words()[1:20])"
   ]
  },
  {
   "cell_type": "code",
   "execution_count": 15,
   "id": "eec04f7d",
   "metadata": {},
   "outputs": [
    {
     "name": "stdout",
     "output_type": "stream",
     "text": [
      "[('According', 'VERB'), ('to', 'PREP'), ('those', 'ADJ'), ('on', 'PREP'), ('the', 'ART'), ('inside', 'ADJ'), ('track', 'SUBST'), (',', 'PUN'), ('Raggahouse', 'SUBST'), ('is', 'VERB'), ('the', 'ART'), ('latest', 'ADJ'), ('fad', 'SUBST'), ('in', 'PREP'), ('clubland', 'SUBST'), ('.', 'PUN')]\n"
     ]
    }
   ],
   "source": [
    "print(bnc_reader.tagged_sents()[2])"
   ]
  },
  {
   "cell_type": "markdown",
   "id": "75623263",
   "metadata": {},
   "source": [
    "#### Berechnung von Bigrammen:"
   ]
  },
  {
   "cell_type": "code",
   "execution_count": 7,
   "id": "94c52915",
   "metadata": {},
   "outputs": [
    {
     "name": "stdout",
     "output_type": "stream",
     "text": [
      "[(('of', 'the'), 0.006663493574488339), (('.', 'The'), 0.004997620180866254), ((',', 'but'), 0.004283674440742504), (('for', 'the'), 0.003093764873869586), (('to', 'be'), 0.003093764873869586), ((',', 'the'), 0.0028557829604950024), (('in', 'the'), 0.0028557829604950024), (('pub', 'rock'), 0.0028557829604950024), (('to', 'the'), 0.0028557829604950024), ((')', '.'), 0.0019038553069966682)]\n"
     ]
    }
   ],
   "source": [
    "from nltk.collocations import BigramAssocMeasures, BigramCollocationFinder\n",
    "\n",
    "bigram_measures = BigramAssocMeasures()\n",
    "finder = BigramCollocationFinder.from_words(bnc_reader.words())\n",
    "scored = finder.score_ngrams(bigram_measures.raw_freq)\n",
    "\n",
    "print(scored[0:10])"
   ]
  },
  {
   "cell_type": "markdown",
   "id": "67d6cce6",
   "metadata": {},
   "source": [
    "### Extraktion von XML-Metadaten:"
   ]
  },
  {
   "cell_type": "code",
   "execution_count": null,
   "id": "5457a0d5",
   "metadata": {},
   "outputs": [],
   "source": [
    "# For access to the complete XML data structure, use the ``xml()`` method.\n",
    "# For access to simple word lists and tagged word lists, use ``words()``, ``sents()``, ``tagged_words()``, and ``tagged_sents()``.\n",
    "# https://www.nltk.org/_modules/nltk/corpus/reader/bnc.html"
   ]
  },
  {
   "cell_type": "code",
   "execution_count": 9,
   "id": "d829cf99",
   "metadata": {},
   "outputs": [
    {
     "data": {
      "text/plain": [
       "xml.etree.ElementTree.Element"
      ]
     },
     "execution_count": 9,
     "metadata": {},
     "output_type": "execute_result"
    }
   ],
   "source": [
    "import xml.etree.ElementTree as ET\n",
    "\n",
    "file = bnc_reader.open('news/A1K.xml')\n",
    "tree = ET.parse(file)\n",
    "\n",
    "#create etree root-Object\n",
    "root = tree.getroot()\n",
    "type(root)"
   ]
  },
  {
   "cell_type": "code",
   "execution_count": 12,
   "id": "9bfca023",
   "metadata": {},
   "outputs": [],
   "source": [
    "#alternativ mit NLTK.xml()-Methode:\n",
    "root = bnc_reader.xml('news/A1K.xml')"
   ]
  },
  {
   "cell_type": "code",
   "execution_count": 13,
   "id": "1d888ddb",
   "metadata": {},
   "outputs": [],
   "source": [
    "root.text #kein Text direkt unter <bncDoc> Wurzelknoten!"
   ]
  },
  {
   "cell_type": "code",
   "execution_count": 14,
   "id": "8a22bcba",
   "metadata": {},
   "outputs": [
    {
     "name": "stdout",
     "output_type": "stream",
     "text": [
      "<Element 'teiHeader' at 0x15a518590>\n",
      "<Element 'wtext' at 0x15a684680>\n"
     ]
    }
   ],
   "source": [
    "for el in list(root):\n",
    "    print(el)"
   ]
  },
  {
   "cell_type": "markdown",
   "id": "88718cb4",
   "metadata": {},
   "source": [
    "### itertext() iteriert über ein XML-Knoten und alle Kinderknoten und extrahiert den Text:"
   ]
  },
  {
   "cell_type": "code",
   "execution_count": 123,
   "id": "494f2f68",
   "metadata": {},
   "outputs": [
    {
     "name": "stdout",
     "output_type": "stream",
     "text": [
      "  Independent, electronic edition of 1989-10-02: Listings section. Sample containing about 1842 words from a periodical (domain: arts) \n",
      " Data capture and transcription \n",
      " Oxford University Press \n",
      " \n",
      "BNC XML Edition, December 2006\n",
      " 1842 tokens; 1863 w-units; 94 s-units \n",
      "Distributed under licence by Oxford University Computing Services on behalf of the BNC Consortium.\n",
      " This material is protected by international copyright laws and may not be copied or redistributed in any way. Consult the BNC Web Site at http://www.natcorp.ox.ac.uk for full licencing and distribution conditions.\n",
      "A1K\n",
      " IaList \n",
      "Independent, electronic edition of 1989-10-02: Listings section.\n",
      " \n",
      "Newspaper Publishing plc\n",
      " \n",
      "London\n",
      " \n",
      "1989\n",
      " \n",
      " \n"
     ]
    }
   ],
   "source": [
    "for text in list(root[0][0].itertext()): #Inhalt von <fileDesc>\n",
    "    print(text)"
   ]
  },
  {
   "cell_type": "markdown",
   "id": "87f43b01",
   "metadata": {},
   "source": [
    "### Iterative Extraktion aus mehreren Korpusfiles mit NLTK.xml():"
   ]
  },
  {
   "cell_type": "code",
   "execution_count": 15,
   "id": "ca486d64",
   "metadata": {},
   "outputs": [
    {
     "name": "stdout",
     "output_type": "stream",
     "text": [
      "  Independent, electronic edition of 1989-10-02: Listings section. Sample containing about 1842 words from a periodical (domain: arts) \n",
      " Data capture and transcription \n",
      " Oxford University Press \n",
      " \n",
      "BNC XML Edition, December 2006\n",
      " 1842 tokens; 1863 w-units; 94 s-units \n",
      "Distributed under licence by Oxford University Computing Services on behalf of the BNC Consortium.\n",
      " This material is protected by international copyright laws and may not be copied or redistributed in any way. Consult the BNC Web Site at http://www.natcorp.ox.ac.uk for full licencing and distribution conditions.\n",
      "A1K\n",
      " IaList \n",
      "Independent, electronic edition of 1989-10-02: Listings section.\n",
      " \n",
      "Newspaper Publishing plc\n",
      " \n",
      "London\n",
      " \n",
      "1989\n",
      " \n",
      " \n",
      "  Independent, electronic edition of 1989-10-07: Gardening pages. Sample containing about 1831 words from a periodical (domain: leisure) \n",
      " Data capture and transcription \n",
      " Oxford University Press \n",
      " \n",
      "BNC XML Edition, December 2006\n",
      " 1831 tokens; 1846 w-units; 92 s-units \n",
      "Distributed under licence by Oxford University Computing Services on behalf of the BNC Consortium.\n",
      " This material is protected by international copyright laws and may not be copied or redistributed in any way. Consult the BNC Web Site at http://www.natcorp.ox.ac.uk for full licencing and distribution conditions.\n",
      "A3E\n",
      " IfGard \n",
      "Independent, electronic edition of 1989-10-07: Gardening pages.\n",
      " \n",
      "Newspaper Publishing plc\n",
      " \n",
      "London\n",
      " \n",
      "1989\n",
      " \n",
      " \n"
     ]
    }
   ],
   "source": [
    "fileids = ['news/A1K.xml', 'news/A3E.xml']\n",
    "\n",
    "for fileid in fileids:\n",
    "    root = bnc_reader.xml(fileid)\n",
    "    for text in list(root[0][0].itertext()):\n",
    "        print(text)"
   ]
  }
 ],
 "metadata": {
  "kernelspec": {
   "display_name": "Python 3 (ipykernel)",
   "language": "python",
   "name": "python3"
  },
  "language_info": {
   "codemirror_mode": {
    "name": "ipython",
    "version": 3
   },
   "file_extension": ".py",
   "mimetype": "text/x-python",
   "name": "python",
   "nbconvert_exporter": "python",
   "pygments_lexer": "ipython3",
   "version": "3.9.12"
  }
 },
 "nbformat": 4,
 "nbformat_minor": 5
}
