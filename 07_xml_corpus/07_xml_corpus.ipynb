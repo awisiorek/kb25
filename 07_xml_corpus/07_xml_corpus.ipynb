{
 "cells": [
  {
   "cell_type": "markdown",
   "id": "daea544e",
   "metadata": {},
   "source": [
    "# 7. XML-Korpora\n",
    "\n",
    "- semistrukturierte Datenformate (XML, JSON, YAML, TOML, ...) \n",
    "- JSON und Download von Korpus-Ressourcen mit curl\n",
    "- Speicherung (Serialisierung) von strukturierten Daten\n",
    "- XML als Korpusformat\n",
    "  - Baumstruktur\n",
    "  - Attribute\n",
    "  - Knoten "
   ]
  },
  {
   "cell_type": "markdown",
   "id": "50932b7d",
   "metadata": {},
   "source": [
    "\n",
    "## 7.1 Semistrukturierte Datenformate\n",
    "\n",
    "### Kategorisierung von Daten:\n",
    "\n",
    "* __unstrukturierte Daten:__\n",
    "  * _keine Strukturinformationen gegeben_\n",
    "  * _Metadaten und Daten vermischt (z.B. Autorangabe als Teil eines Textes)_\n",
    "  * Beispiele:\n",
    "    * Bilddateien\n",
    "    * Videodateien\n",
    "    * Tonaufzeichnungen\n",
    "    * Textdokumente\n",
    "    * ...\n",
    "* __semistrukturierte Daten:__\n",
    "  * _haben Strukturinformationen (Objekte+Attribute), aber keine gleichartige Strukturierung (kein Datenmodell)_\n",
    "  * _z.B. Auszeichnung einer Autorangabe über XML-Tag_ \n",
    "  * Beispiele:\n",
    "    * LaTEX\n",
    "    * XML\n",
    "    * HTML\n",
    "    * JSON\n",
    "    * YAML\n",
    "    * TOML\n",
    "    * ...\n",
    "* __strukturierte Daten:__\n",
    "  * _haben Datenmodell (Schema) mit allgemeiner Struktur (gleichartige Strukturinformationen = Objekte+Attribute)_\n",
    "  * Formate:\n",
    "    * tabularische Formate (CSV, TSV, XLS, ...)\n",
    "    * relationale Datenbanken (MySQL, PostgreSQL, ...)\n",
    "    * alternative Datenbanken (NoSQL, Neo4J, ...)\n",
    "  \n",
    "\n",
    "#### Vorteile semistrukturierter Daten:\n",
    "* __maschinenlesbar__, Informationen aus Daten dekodierbar (anders als unstrukturierte Daten)\n",
    "* __Flexibilität__: Strukturierung erweiterbar, da kein fixes Schema\n",
    "* können einfach zur __Auszeichnung__ von aus unstrukturierten Daten extrahierten Informationen verwendet werden (IE)\n",
    "* Verwendung als __Datenaustauschformat__ (Textdatei mit Auszeichnungen)"
   ]
  },
  {
   "cell_type": "markdown",
   "id": "ed80367c",
   "metadata": {},
   "source": [
    "##  7.2 JSON (JavaScript Object Notation)\n",
    "* Datenaustauschformat in einfacher Textform\n",
    "* Datentypen:\n",
    "  * Objekte aus Schlüssel- und Wertpaaren (~Dictionaries)\n",
    "  * Arrays (Listen)\n",
    "  * Booleans\n",
    "  * Gleitkommazahlen\n",
    "  * Strings\n",
    "  * Null\n",
    "* verwendet vor allem zur Kommunikation von Web-Diensten (APIs) über JSON-kodierte Strings als HTTP-Request/Response\n",
    "* aber auch annotierte Korpora, z.B. https://www.kaggle.com/datasets/daishinkan002/new-york-times-relation-extraction-dataset \n",
    "* üblicherweise UTF-8 kodiert\n",
    "* Tool zum Arbeiten mit JSON auf der Kommandozeile: [jq](https://stedolan.github.io/jq/)\n",
    "* json-Library Teil der Standard-Libraries von Python"
   ]
  },
  {
   "cell_type": "markdown",
   "id": "ccdbac71",
   "metadata": {},
   "source": [
    "#### JSON Einlesen und Verarbeiten mit der json-Library:"
   ]
  },
  {
   "cell_type": "code",
   "execution_count": 1,
   "id": "10e50a78",
   "metadata": {},
   "outputs": [
    {
     "data": {
      "text/plain": [
       "'{\"message\":\"Hello there, wayfaring stranger. If you’re reading this then you probably didn’t see our blog post a couple of years back announcing that this API would go away: http://git.io/17AROg Fear not, you should be able to get what you need from the shiny new Events API instead.\",\"documentation_url\":\"https://docs.github.com/v3/activity/events/#list-public-events\"}'"
      ]
     },
     "execution_count": 1,
     "metadata": {},
     "output_type": "execute_result"
    }
   ],
   "source": [
    "# Einlesen JSON-File als String:\n",
    "raw_file = open('timeline.json').read()\n",
    "raw_file"
   ]
  },
  {
   "cell_type": "code",
   "execution_count": 2,
   "id": "ed8d0a3e",
   "metadata": {},
   "outputs": [
    {
     "data": {
      "text/plain": [
       "{'message': 'Hello there, wayfaring stranger. If you’re reading this then you probably didn’t see our blog post a couple of years back announcing that this API would go away: http://git.io/17AROg Fear not, you should be able to get what you need from the shiny new Events API instead.',\n",
       " 'documentation_url': 'https://docs.github.com/v3/activity/events/#list-public-events'}"
      ]
     },
     "execution_count": 2,
     "metadata": {},
     "output_type": "execute_result"
    }
   ],
   "source": [
    "import json\n",
    "# Konvertierung in Dictionary:\n",
    "data= json.loads(raw_file)\n",
    "data"
   ]
  },
  {
   "cell_type": "code",
   "execution_count": 3,
   "id": "a60f2bbd",
   "metadata": {},
   "outputs": [
    {
     "data": {
      "text/plain": [
       "dict"
      ]
     },
     "execution_count": 3,
     "metadata": {},
     "output_type": "execute_result"
    }
   ],
   "source": [
    "type(data)"
   ]
  },
  {
   "cell_type": "code",
   "execution_count": 4,
   "id": "6e519d60",
   "metadata": {},
   "outputs": [
    {
     "data": {
      "text/plain": [
       "'https://docs.github.com/v3/activity/events/#list-public-events'"
      ]
     },
     "execution_count": 4,
     "metadata": {},
     "output_type": "execute_result"
    }
   ],
   "source": [
    "data['documentation_url']"
   ]
  },
  {
   "cell_type": "code",
   "execution_count": 5,
   "id": "21a490b3",
   "metadata": {},
   "outputs": [
    {
     "data": {
      "text/plain": [
       "'https://docs.github.com/v3/activity/events/#list-public-events'"
      ]
     },
     "execution_count": 5,
     "metadata": {},
     "output_type": "execute_result"
    }
   ],
   "source": [
    "# alternativ: Lesen und direkt in Dictionary konvertieren:\n",
    "with open('timeline.json') as json_file:\n",
    "    data = json.load(json_file)\n",
    "data['documentation_url']"
   ]
  },
  {
   "cell_type": "markdown",
   "id": "780f6734",
   "metadata": {},
   "source": [
    "#### Einlesen JSON mit pandas:"
   ]
  },
  {
   "cell_type": "code",
   "execution_count": 6,
   "id": "f70737c8",
   "metadata": {},
   "outputs": [
    {
     "data": {
      "text/html": [
       "<div>\n",
       "<style scoped>\n",
       "    .dataframe tbody tr th:only-of-type {\n",
       "        vertical-align: middle;\n",
       "    }\n",
       "\n",
       "    .dataframe tbody tr th {\n",
       "        vertical-align: top;\n",
       "    }\n",
       "\n",
       "    .dataframe thead th {\n",
       "        text-align: right;\n",
       "    }\n",
       "</style>\n",
       "<table border=\"1\" class=\"dataframe\">\n",
       "  <thead>\n",
       "    <tr style=\"text-align: right;\">\n",
       "      <th></th>\n",
       "      <th>message</th>\n",
       "      <th>documentation_url</th>\n",
       "    </tr>\n",
       "  </thead>\n",
       "  <tbody>\n",
       "    <tr>\n",
       "      <th>0</th>\n",
       "      <td>Hello there, wayfaring stranger. If you’re rea...</td>\n",
       "      <td>https://docs.github.com/v3/activity/events/#li...</td>\n",
       "    </tr>\n",
       "  </tbody>\n",
       "</table>\n",
       "</div>"
      ],
      "text/plain": [
       "                                             message  \\\n",
       "0  Hello there, wayfaring stranger. If you’re rea...   \n",
       "\n",
       "                                   documentation_url  \n",
       "0  https://docs.github.com/v3/activity/events/#li...  "
      ]
     },
     "execution_count": 6,
     "metadata": {},
     "output_type": "execute_result"
    }
   ],
   "source": [
    "import pandas as pd\n",
    "df = pd.read_json('timeline.json', lines=True)\n",
    "df.head()"
   ]
  },
  {
   "cell_type": "markdown",
   "id": "f31e56c6",
   "metadata": {},
   "source": [
    "### Download und Verarbeitung JSON mit requests-Library"
   ]
  },
  {
   "cell_type": "code",
   "execution_count": 7,
   "id": "8d0cba06",
   "metadata": {},
   "outputs": [
    {
     "data": {
      "text/plain": [
       "'https://docs.github.com/v3/activity/events/#list-public-events'"
      ]
     },
     "execution_count": 7,
     "metadata": {},
     "output_type": "execute_result"
    }
   ],
   "source": [
    "import requests\n",
    "r = requests.get('https://github.com/timeline.json')\n",
    "data = r.json()\n",
    "data['documentation_url']"
   ]
  },
  {
   "cell_type": "markdown",
   "id": "19904b09",
   "metadata": {},
   "source": [
    "#### Download mit UNIX-Tool (curl):"
   ]
  },
  {
   "cell_type": "code",
   "execution_count": 8,
   "id": "ca11d1e6",
   "metadata": {},
   "outputs": [
    {
     "name": "stderr",
     "output_type": "stream",
     "text": [
      "  % Total    % Received % Xferd  Average Speed   Time    Time     Time  Current\n",
      "                                 Dload  Upload   Total   Spent    Left  Speed\n",
      "100   374  100   374    0     0   2018      0 --:--:-- --:--:-- --:--:--  2125\n"
     ]
    },
    {
     "name": "stdout",
     "output_type": "stream",
     "text": [
      "{\"message\":\"Hello there, wayfaring stranger. If you’re reading this then you probably didn’t see our blog post a couple of years back announcing that this API would go away: http://git.io/17AROg Fear not, you should be able to get what you need from the shiny new Events API instead.\",\"documentation_url\":\"https://docs.github.com/v3/activity/events/#list-public-events\"}"
     ]
    }
   ],
   "source": [
    "%%bash\n",
    "curl 'https://github.com/timeline.json'"
   ]
  },
  {
   "cell_type": "markdown",
   "id": "a515e1e3",
   "metadata": {},
   "source": [
    "#### Konvertierung Dictionary in JSON-String:"
   ]
  },
  {
   "cell_type": "code",
   "execution_count": 9,
   "id": "85daf574",
   "metadata": {},
   "outputs": [
    {
     "name": "stdout",
     "output_type": "stream",
     "text": [
      "[\n",
      "  {\n",
      "    \"titel\": \"Faust I\",\n",
      "    \"author\": {\n",
      "      \"vorname\": \"Johann Wolfgang\",\n",
      "      \"nachname\": \"von Goethe\"\n",
      "    },\n",
      "    \"preis\": 4.95,\n",
      "    \"verlag\": \"Reclam\"\n",
      "  },\n",
      "  {\n",
      "    \"titel\": \"Maria Stuart: Trauperspiel in fünf Aufzügen\",\n",
      "    \"author\": {\n",
      "      \"vorname\": \"Friedrich\",\n",
      "      \"nachname\": \"Schiller\"\n",
      "    },\n",
      "    \"preis\": 5.5,\n",
      "    \"verlag\": \"Suhrkamp\"\n",
      "  }\n",
      "]\n"
     ]
    }
   ],
   "source": [
    "import json\n",
    "\n",
    "book1 = {\n",
    "  \"titel\": \"Faust I\",\n",
    "  \"author\": {\n",
    "    \"vorname\": \"Johann Wolfgang\",\n",
    "    \"nachname\": \"von Goethe\",\n",
    "  },\n",
    "  \"preis\": 4.95,\n",
    "  \"verlag\": \"Reclam\"\n",
    "}\n",
    "\n",
    "book2 = {\n",
    "  \"titel\": \"Maria Stuart: Trauperspiel in fünf Aufzügen\",\n",
    "  \"author\": {\n",
    "    \"vorname\": \"Friedrich\",\n",
    "    \"nachname\": \"Schiller\",\n",
    "  },\n",
    "  \"preis\": 5.50,\n",
    "  \"verlag\": \"Suhrkamp\"\n",
    "}\n",
    "\n",
    "#print(json.dumps([book1, book2], indent=2)) #Default: ensure_ascii=True: escape Sonderzeichen als Unicode-Points\n",
    "print(json.dumps([book1, book2], indent=2, ensure_ascii=False)) # UTF-8-Kodierung"
   ]
  },
  {
   "cell_type": "markdown",
   "id": "0c346f0c",
   "metadata": {},
   "source": [
    "##  7.3 Serialisierung und Deserialisierung von Python-Objekten \n",
    "\n",
    "- Serialisierung: Konvertierung von strukturierte Daten in sequentielle Form\n",
    "- Ziel: persistente Speicherung, z.B. von ML-Modellen\n",
    "- JSON (oder YAML; menschenlesbar) oder als data stream (mit pickle)\n",
    "- https://docs.python.org/3/library/pickle.html#comparison-with-json\n",
    "- pickle ist **nicht** sicher; niemals Objekte von unbekannten/unzuverl&auml;ssigen Quellen laden"
   ]
  },
  {
   "cell_type": "markdown",
   "id": "f6e0f62b",
   "metadata": {},
   "source": [
    "#### Pickle a Python dictionary:"
   ]
  },
  {
   "cell_type": "code",
   "execution_count": 10,
   "id": "879ec661",
   "metadata": {},
   "outputs": [],
   "source": [
    "# https://docs.python.org/3/library/pickle.html#examples\n",
    "\n",
    "import pickle\n",
    "\n",
    "# An arbitrary collection of objects supported by pickle.\n",
    "data = {\n",
    "    'a': [1, 2.0, 3+4j],\n",
    "    'b': (\"character string\", b\"byte string\"),\n",
    "    'c': {None, True, False}\n",
    "}\n",
    "\n",
    "with open('data.pickle', 'wb') as f:\n",
    "    # Pickle the 'data' dictionary using the highest protocol available.\n",
    "    pickle.dump(data, f, pickle.HIGHEST_PROTOCOL)"
   ]
  },
  {
   "cell_type": "markdown",
   "id": "93dbbbfc",
   "metadata": {},
   "source": [
    "#### Read the resulting pickled data:"
   ]
  },
  {
   "cell_type": "code",
   "execution_count": 31,
   "id": "8f3e8170",
   "metadata": {},
   "outputs": [
    {
     "name": "stdout",
     "output_type": "stream",
     "text": [
      "{'a': [1, 2.0, (3+4j)], 'b': ('character string', b'byte string'), 'c': {False, None, True}}\n"
     ]
    }
   ],
   "source": [
    "import pickle\n",
    "\n",
    "with open('data.pickle', 'rb') as f:\n",
    "    data = pickle.load(f)\n",
    "print(data)"
   ]
  },
  {
   "cell_type": "markdown",
   "id": "b00e50a8",
   "metadata": {},
   "source": [
    "##  7.4 XML (Extensible Markup Language)\n",
    "* Auszeichnungsprache zum Datenaustausch (Markup/Auszeichnung von Strukturen in Texten)\n",
    "* verwandt mit HTML\n",
    "* Nachfolger von SGML\n",
    "* verwendet zur Datenauszeichnung, Serialisierung und Konfiguration\n",
    "* XML-Standard wird vom [W3C (World Wide Web Consortium)](https://www.w3.org/) verwaltet\n",
    "\n",
    "![Entwicklung einiger Markup-Sprachen](history.png)\n",
    "> Entwicklung einiger Markup-Sprachen"
   ]
  },
  {
   "cell_type": "markdown",
   "id": "337796ac",
   "metadata": {},
   "source": [
    "### Unterschiede zu HTML (Hypertext Markup Language)\n",
    "* entwickelt  Ende der 1980er Jahre\n",
    "* bildet das Fundament des World Wide Webs\n",
    "* HTML beschreibt Dokumentenstruktur durch _vordefiniertes Markup_ (festes Tagset: Elemente und Attribute)\n",
    "* dagegen _XML: kein vorgegebenes Tagset_ (flexibel, aber beeinträchtigt Interoperabilität)"
   ]
  },
  {
   "cell_type": "markdown",
   "id": "03a8a53b",
   "metadata": {},
   "source": [
    "##  7.5 Struktur von XML-Dokumenten\n",
    "* __Prolog (_optional_):__\n",
    "  * ___XML-Deklaration___ am Anfang (von `<?...?>` umgeben):\n",
    "    1. XML-Version (Standardwert: 1.0)\n",
    "    2. Encoding (Standardwert: UTF-8)\n",
    "    3. Standalone (mögliche Werte: yes, no)\n",
    "  * ___Stylesheetreferenzen___ \n",
    "  * ___Dokumenttypdeklarationen___\n",
    "* __eigentliche Daten__ (folgen auf den XML-Prolog):\n",
    "  * ___Elemente___ bilden das Markup im XML-Dokument\n",
    "  * Elementnamen können frei vergeben werden\n",
    "  * Jedes Element ist von einem _Start-Tag_ und einem _End-Tag_ umgeben: `<element-name>...</element-name>`\n",
    "  * Elemente in XML _müssen_ immer mit einem schließenden Tag abgeschlossen werden\n",
    "  * Abkürzende Schreibweise für leere Elemente `<elem></elem>`: `<elem/>`\n",
    "  * Regeln für Elementnamen:\n",
    "    * Namen sind Folgen alphanumerischer Zeichen beliebiger Länge\n",
    "    * Elementnamen dürfen mit `_` beginnen\n",
    "    * `.` und `-` dürfen nach dem ersten Zeichen auftauchen\n",
    "    * `:` ist reserviert für Namensräume\n",
    "    * keine Leerzeichen erlaubt\n",
    "    * die Zeichenfolge `xml` ist reserviert\n",
    "  * Elemente spannen einen ___Baumstruktur___ auf:\n",
    "    * genau ein Wurzelknoten\n",
    "    * jeder Knoten (außer dem Wurzelknoten) muss genau einen Elternknoten haben"
   ]
  },
  {
   "cell_type": "markdown",
   "id": "cdd4db9d",
   "metadata": {},
   "source": [
    "#### XML-Beispiel (buchkatalog.xml):"
   ]
  },
  {
   "cell_type": "markdown",
   "id": "64670069",
   "metadata": {},
   "source": [
    "```xml\n",
    "<?xml version=\"1.0\" encoding=\"UTF-8\"?>\n",
    "<!-- Buchkatalog -->\n",
    "<buchkatalog>\n",
    "\n",
    "  <buch>\n",
    "    <titel>Faust I</titel>\n",
    "    <autor>\n",
    "      <vorname>Johann Wolfgang</vorname>\n",
    "      <nachname>von Goethe</nachname>\n",
    "    </autor>\n",
    "    <preis>4,95</preis>\n",
    "    <verlag>Reclam</verlag>\n",
    "  </buch>\n",
    "\n",
    "  <buch>\n",
    "    <titel>Maria Stuart: Trauerspiel in fünf Aufzügen</titel>\n",
    "    <autor>\n",
    "      <vorname>Friedrich</vorname>\n",
    "      <nachname>Schiller</nachname>\n",
    "    </autor>\n",
    "    <preis>5,50</preis>\n",
    "    <verlag>Suhrkamp</verlag>\n",
    "  </buch>\n",
    "\n",
    "  <buch>\n",
    "    <titel>Buddenbrooks: Verfall einer Familie</titel>\n",
    "    <autor>\n",
    "      <vorname>Thomas</vorname>\n",
    "      <nachname>Mann</nachname>\n",
    "    </autor>\n",
    "    <preis>12,00</preis>\n",
    "    <verlag>Fischer</verlag>\n",
    "  </buch>\n",
    "\n",
    "  <buch>\n",
    "    <titel>Treffpunkt im Unendlichen</titel>\n",
    "    <autor>\n",
    "      <vorname>Klaus</vorname>\n",
    "      <nachname>Mann</nachname>\n",
    "    </autor>\n",
    "    <preis>9,99</preis>\n",
    "    <verlag>Rowohlt</verlag>\n",
    "  </buch>\n",
    "\n",
    "</buchkatalog>\n",
    "```"
   ]
  },
  {
   "cell_type": "markdown",
   "id": "91688180",
   "metadata": {},
   "source": [
    "\n",
    "<img src=\"tree.png\" alt=\"Baumstruktur\" style=\"width:850px;\"/>\n",
    "\n",
    "> Baumstruktur eines XML-Dokuments\n"
   ]
  },
  {
   "cell_type": "markdown",
   "id": "de9c311f",
   "metadata": {},
   "source": [
    "## Übungsaufgaben 7\n",
    "\n"
   ]
  },
  {
   "cell_type": "markdown",
   "id": "d82a219d",
   "metadata": {},
   "source": [
    "### Aufgabe 1 (Verarbeitung BNC-XML-Korpus)\n",
    "\n",
    "Schreiben Sie ein Python-Programm, das \n",
    "\n",
    "- ein Sample des British National Corpus mit Hilfe des NLTK-XML-Korpusreaders (https://www.nltk.org/_modules/nltk/corpus/reader/bnc.html) einliest, \n",
    "\n",
    "- die getaggten Wörter (mit `tagged_words()`) ausgibt,\n",
    "\n",
    "- Bigramme berechnet,\n",
    "\n",
    "- und aus dem XML-Dokumenteninhalt (`<teiHeader>`) die Metadaten mit `xml.etree` extrahiert.\n",
    "\n",
    "Sie können das BNC Sample entweder über NLTK herunterladen: \n",
    "```python\n",
    "nltk.download('bnc')\n",
    "```\n",
    "oder hier manuell herunterladen: https://ota.bodleian.ox.ac.uk/repository/xmlui/handle/20.500.12024/2553"
   ]
  }
 ],
 "metadata": {
  "kernelspec": {
   "display_name": "Python 3 (ipykernel)",
   "language": "python",
   "name": "python3"
  },
  "language_info": {
   "codemirror_mode": {
    "name": "ipython",
    "version": 3
   },
   "file_extension": ".py",
   "mimetype": "text/x-python",
   "name": "python",
   "nbconvert_exporter": "python",
   "pygments_lexer": "ipython3",
   "version": "3.9.12"
  }
 },
 "nbformat": 4,
 "nbformat_minor": 5
}
