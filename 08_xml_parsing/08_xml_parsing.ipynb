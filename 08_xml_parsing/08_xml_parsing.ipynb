{
 "cells": [
  {
   "cell_type": "markdown",
   "id": "daea544e",
   "metadata": {},
   "source": [
    "# 8. XML-Parsing\n",
    "\n",
    "- Parsing von XML-Korpora mit etree\n",
    "- Namensräume\n",
    "- Entitäten \n",
    "- Validierung mit Dokumenttypdefinitionen (DTD’s)\n",
    "\n"
   ]
  },
  {
   "cell_type": "markdown",
   "id": "b145ca58",
   "metadata": {},
   "source": [
    "##  8.1 XML-Parsing in Python\n",
    "* verschiedene Parsing-Strategien:\n",
    "  * SAX-Parsing (Callback-basiert)\n",
    "  * DOM-Parsing (Abbildung der Baumstruktur im Programm)\n",
    "  * Pull-Parsing (imperatives Parsing der XML-Struktur)\n",
    "* verschiedene XML-Parser in Python-Standardlibrary:\n",
    "  * `xml.sax` (SAX-Parser)\n",
    "  * `xml.minidom` (DOM-Parser)\n",
    "  * `xml.dom.pulldom` (Pull-Parser für DOM-Parser)\n",
    "  * __`xml.etree`__ (pythonic XML-DOM-Parser zur Extraktion von Inhalten aus XML-Dateien)\n",
    "* weitere XML-Library:\n",
    "  * __`BeautifulSoup`__ (XML Parser, ebenfalls zur Extraktion von Inhalten aus XML-Dateien verwendet)\n"
   ]
  },
  {
   "cell_type": "markdown",
   "id": "57923029",
   "metadata": {},
   "source": [
    "### XML-Generierung mit etree: Element(), SubElement()\n",
    "\n",
    "- Erzeugen von XML (Knoten)  mit etree"
   ]
  },
  {
   "cell_type": "code",
   "execution_count": 12,
   "id": "06696166",
   "metadata": {},
   "outputs": [
    {
     "name": "stdout",
     "output_type": "stream",
     "text": [
      "<?xml version=\"1.0\" ?>\n",
      "<root>\n",
      "\t<message>Hello, world!</message>\n",
      "</root>\n",
      "\n"
     ]
    }
   ],
   "source": [
    "import xml.etree.ElementTree as ET\n",
    "import xml.dom.minidom\n",
    "\n",
    "root = ET.Element('root')\n",
    "message = ET.SubElement(root, 'message')\n",
    "message.text = \"Hello, world!\"\n",
    "\n",
    "# Raw output: print(ET.tostring(root)) or ET.dump(root)\n",
    "\n",
    "# Pretty printing: (reparse with minidom that supports pretty print)\n",
    "dom = xml.dom.minidom.parseString(ET.tostring(root))\n",
    "print(dom.toprettyxml())"
   ]
  },
  {
   "cell_type": "markdown",
   "id": "835123b0",
   "metadata": {},
   "source": [
    "### XML-Parsing mit etree: parse(), getroot(), find()\n",
    "\n",
    "- Einlesen eines XML-Dokuments und und Parsen der Baumstruktur mit etree"
   ]
  },
  {
   "cell_type": "code",
   "execution_count": 13,
   "id": "3bd942ee",
   "metadata": {},
   "outputs": [
    {
     "name": "stdout",
     "output_type": "stream",
     "text": [
      "buchkatalog\n",
      "+--> buch\n",
      "|    +--> titel: Faust I\n",
      "|    +--> verlag: Reclam\n",
      "|    +--> preis: 4,95\n",
      "+--> buch\n",
      "|    +--> titel: Maria Stuart: Trauerspiel in fünf Aufzügen\n",
      "|    +--> verlag: Suhrkamp\n",
      "|    +--> preis: 5,50\n",
      "+--> buch\n",
      "|    +--> titel: Buddenbrooks: Verfall einer Familie\n",
      "|    +--> verlag: Fischer\n",
      "|    +--> preis: 12,00\n",
      "+--> buch\n",
      "|    +--> titel: Treffpunkt im Unendlichen\n",
      "|    +--> verlag: Rowohlt\n",
      "|    +--> preis: 9,99\n"
     ]
    }
   ],
   "source": [
    "import xml.etree.ElementTree as ET\n",
    "\n",
    "tree = ET.parse('buchkatalog.xml')\n",
    "root = tree.getroot()\n",
    "\n",
    "print(root.tag)\n",
    "# Iterieren über Knoten:\n",
    "for c in root:\n",
    "    print(\"+--> \" + c.tag)\n",
    "    title = c.find('titel')\n",
    "    verlag = c.find('verlag')\n",
    "    preis = c.find('preis')\n",
    "    print(\"|    +--> \" + title.tag + \": \" + title.text)\n",
    "    print(\"|    +--> \" + verlag.tag + \": \" + verlag.text)\n",
    "    print(\"|    +--> \" + preis.tag + \": \" + preis.text)"
   ]
  },
  {
   "cell_type": "markdown",
   "id": "c7c95366",
   "metadata": {},
   "source": [
    "### XML-Parsing mit BeautifulSoup (bs4):"
   ]
  },
  {
   "cell_type": "code",
   "execution_count": 15,
   "id": "62747e0a",
   "metadata": {},
   "outputs": [
    {
     "name": "stdout",
     "output_type": "stream",
     "text": [
      "<titel>Faust I</titel>\n"
     ]
    }
   ],
   "source": [
    "from bs4 import BeautifulSoup\n",
    "import codecs\n",
    "\n",
    "with codecs.open(\"buchkatalog.xml\", \"r\", \"utf-8\") as file:\n",
    "    soup = BeautifulSoup(file) \n",
    "    #The variable soup now contains a BeautifulSoup object that you can use to traverse the root element.\n",
    "\n",
    "title = soup.find('titel')\n",
    "print(title)"
   ]
  },
  {
   "cell_type": "code",
   "execution_count": 16,
   "id": "550006d3",
   "metadata": {},
   "outputs": [
    {
     "name": "stdout",
     "output_type": "stream",
     "text": [
      "<titel>Faust I</titel>\n",
      "<titel>Maria Stuart: Trauerspiel in fünf Aufzügen</titel>\n",
      "<titel>Buddenbrooks: Verfall einer Familie</titel>\n",
      "<titel>Treffpunkt im Unendlichen</titel>\n"
     ]
    }
   ],
   "source": [
    "for title in soup.find_all(\"titel\"):\n",
    "    print(title)"
   ]
  },
  {
   "cell_type": "markdown",
   "id": "9fe2ae3d",
   "metadata": {},
   "source": [
    "## 8.2 XML-Attribute\n",
    "* Elemente können _Attribute_ enthalten\n",
    "* Attribute fügen Elementen weitere Informationen hinzu\n",
    "* Attribute sind Schlüssel-Wertpaare: `key=\"value\"`\n",
    "* im Allgemeinen für Metadaten\n",
    "* Unterschied oftmals nicht eindeutig:\n",
    "\n",
    "Genre als Attribut:\n",
    "```xml\n",
    "...\n",
    "<buch genre=\"tragödie\">\n",
    " <titel>Faust I</titel>\n",
    " <autor>\n",
    "  <vorname>Johann Wolfgang</vorname>\n",
    "  <nachname>von Goethe</nachname>\n",
    " </autor>\n",
    " <preis>4,95</preis>\n",
    " <verlag>Reclam</verlag>\n",
    "</buch>\n",
    "...\n",
    "```\n",
    "\n",
    "Genre als Element (Auszeichnung):\n",
    "```xml\n",
    "...\n",
    "<buch>\n",
    " <genre>tragödie</genre>\n",
    " <titel>Faust I</titel>\n",
    " <autor>\n",
    "  <vorname>Johann Wolfgang</vorname>\n",
    "  <nachname>von Goethe</nachname>\n",
    " </autor>\n",
    " <preis>4,95</preis>\n",
    " <verlag>Reclam</verlag>\n",
    "</buch>\n",
    "...\n",
    "```"
   ]
  },
  {
   "cell_type": "markdown",
   "id": "4317359a",
   "metadata": {},
   "source": [
    "### Attribute mit etree: attrib-Dictionary\n",
    "\n",
    "- Hinzufügen von Attribut mit etree:"
   ]
  },
  {
   "cell_type": "code",
   "execution_count": 17,
   "id": "749cbe4d",
   "metadata": {},
   "outputs": [
    {
     "name": "stdout",
     "output_type": "stream",
     "text": [
      "<buchkatalog>\n",
      "\n",
      "  <buch id=\"1\">\n",
      "    <titel>Faust I</titel>\n",
      "    <autor>\n",
      "      <vorname>Johann Wolfgang</vorname>\n",
      "      <nachname>von Goethe</nachname>\n",
      "    </autor>\n",
      "    <preis>4,95</preis>\n",
      "    <verlag>Reclam</verlag>\n",
      "  </buch>\n",
      "\n",
      "  <buch id=\"2\">\n",
      "    <titel>Maria Stuart: Trauerspiel in fünf Aufzügen</titel>\n",
      "    <autor>\n",
      "      <vorname>Friedrich</vorname>\n",
      "      <nachname>Schiller</nachname>\n",
      "    </autor>\n",
      "    <preis>5,50</preis>\n",
      "    <verlag>Suhrkamp</verlag>\n",
      "  </buch>\n",
      "\n",
      "  <buch id=\"3\">\n",
      "    <titel>Buddenbrooks: Verfall einer Familie</titel>\n",
      "    <autor>\n",
      "      <vorname>Thomas</vorname>\n",
      "      <nachname>Mann</nachname>\n",
      "    </autor>\n",
      "    <preis>12,00</preis>\n",
      "    <verlag>Fischer</verlag>\n",
      "  </buch>\n",
      "\n",
      "  <buch id=\"4\">\n",
      "    <titel>Treffpunkt im Unendlichen</titel>\n",
      "    <autor>\n",
      "      <vorname>Klaus</vorname>\n",
      "      <nachname>Mann</nachname>\n",
      "    </autor>\n",
      "    <preis>9,99</preis>\n",
      "    <verlag>Rowohlt</verlag>\n",
      "  </buch>\n",
      "\n",
      "</buchkatalog>\n"
     ]
    }
   ],
   "source": [
    "import xml.etree.ElementTree as ET\n",
    "\n",
    "tree = ET.parse('buchkatalog.xml')\n",
    "root = tree.getroot()\n",
    "\n",
    "id = 1\n",
    "for c in root:\n",
    "    c.attrib['id'] = str(id)\n",
    "    id += 1\n",
    "ET.dump(root)"
   ]
  },
  {
   "cell_type": "markdown",
   "id": "d97c9344",
   "metadata": {},
   "source": [
    "##  8.3 XML-Namensräume\n",
    "* Namensräume zur Unterscheidung verschiedener Elemente mit gleichen Elementnamen\n",
    "* Namensräume sind Präfixe von Elementnamen: `<prefix:name>`\n",
    "* Es können auch Standardnamensräume ohne Präfixe vergeben werden\n",
    "\n",
    "Namensräume mit Präfix:\n",
    "```xml\n",
    "<buch>\n",
    " <titel>Eine kurze Geschichte der Zeit</titel>\n",
    " <p:autor xmlns:p=\"www.dhvlab.gwi.uni-muenchen.de/xml/person\">\n",
    "  <p:vorname>Stephan</p:vorname>\n",
    "  <p:nachname>Hawking</p:nachname>\n",
    "  <p:titel>Prof. Dr.</p:titel>\n",
    " </p:autor>\n",
    " <preis>9,99</preis>\n",
    " <verlag>Rowohlt</verlag>\n",
    " <genre>wissenschaft</genre>\n",
    "</buch>\n",
    "```\n",
    "\n",
    "Standardnamensräume:\n",
    "```xml\n",
    "<buch>\n",
    " <titel>Eine kurze Geschichte der Zeit</titel>\n",
    " <autor xmlns=\"www.dhvlab.gwi.uni-muenchen.de/xml/person\">\n",
    "  <vorname>Stephan</vorname>\n",
    "  <nachname>Hawking</nachname>\n",
    "  <titel>Prof. Dr.</titel>\n",
    " </autor>\n",
    " <preis>9,99</preis>\n",
    " <verlag>Rowohlt</verlag>\n",
    " <genre>wissenschaft</genre>\n",
    "</buch>\n",
    "```\n"
   ]
  },
  {
   "cell_type": "code",
   "execution_count": 18,
   "id": "f555de6a",
   "metadata": {},
   "outputs": [
    {
     "name": "stdout",
     "output_type": "stream",
     "text": [
      "buch: Eine kurze Geschichte der Zeit\n",
      "{www.dhvlab.gwi.uni-muenchen.de/xml/person}vorname: Stephan\n",
      "{www.dhvlab.gwi.uni-muenchen.de/xml/person}nachname: Hawking\n",
      "{www.dhvlab.gwi.uni-muenchen.de/xml/person}titel: Prof. Dr.\n"
     ]
    }
   ],
   "source": [
    "import xml.etree.ElementTree as ET\n",
    "\n",
    "# Namespace-Dictionary:\n",
    "ns = {'p': 'www.dhvlab.gwi.uni-muenchen.de/xml/person'}\n",
    "\n",
    "xml = '''\n",
    "<buch>\n",
    " <titel>Eine kurze Geschichte der Zeit</titel>\n",
    " <p:autor xmlns:p=\"www.dhvlab.gwi.uni-muenchen.de/xml/person\">\n",
    "  <p:vorname>Stephan</p:vorname>\n",
    "  <p:nachname>Hawking</p:nachname>\n",
    "  <p:titel>Prof. Dr.</p:titel>\n",
    " </p:autor>\n",
    " <preis>9,99</preis>\n",
    " <verlag>Rowohlt</verlag>\n",
    " <genre>wissenschaft</genre>\n",
    "</buch>\n",
    "'''\n",
    "\n",
    "root = ET.fromstring(xml)\n",
    "print(root.tag + \": \" + root.find('titel').text)\n",
    "autor = root.find('p:autor', ns)\n",
    "vorname = autor.find('p:vorname', ns)\n",
    "nachname = autor.find('p:nachname', ns)\n",
    "titel = autor.find('p:titel', ns)\n",
    "print(vorname.tag + \": \" + vorname.text)\n",
    "print(nachname.tag + \": \" + nachname.text)\n",
    "print(titel.tag + \": \" + titel.text)\n"
   ]
  },
  {
   "cell_type": "code",
   "execution_count": 19,
   "id": "6281edbe",
   "metadata": {},
   "outputs": [
    {
     "name": "stdout",
     "output_type": "stream",
     "text": [
      "buch: Eine kurze Geschichte der Zeit\n",
      "{www.dhvlab.gwi.uni-muenchen.de/xml/person}vorname: Stephan\n",
      "{www.dhvlab.gwi.uni-muenchen.de/xml/person}nachname: Hawking\n",
      "{www.dhvlab.gwi.uni-muenchen.de/xml/person}titel: Prof. Dr.\n"
     ]
    }
   ],
   "source": [
    "import xml.etree.ElementTree as ET\n",
    "\n",
    "# alternativ ohne Namespace-Dictionary:\n",
    "\n",
    "xml = '''\n",
    "<buch>\n",
    " <titel>Eine kurze Geschichte der Zeit</titel>\n",
    " <p:autor xmlns:p=\"www.dhvlab.gwi.uni-muenchen.de/xml/person\">\n",
    "  <p:vorname>Stephan</p:vorname>\n",
    "  <p:nachname>Hawking</p:nachname>\n",
    "  <p:titel>Prof. Dr.</p:titel>\n",
    " </p:autor>\n",
    " <preis>9,99</preis>\n",
    " <verlag>Rowohlt</verlag>\n",
    " <genre>wissenschaft</genre>\n",
    "</buch>\n",
    "'''\n",
    "\n",
    "root = ET.fromstring(xml)\n",
    "print(root.tag + \": \" + root.find('titel').text)\n",
    "autor = root.find('{www.dhvlab.gwi.uni-muenchen.de/xml/person}autor')\n",
    "vorname = autor.find('{www.dhvlab.gwi.uni-muenchen.de/xml/person}vorname')\n",
    "nachname = autor.find('{www.dhvlab.gwi.uni-muenchen.de/xml/person}nachname')\n",
    "titel = autor.find('{www.dhvlab.gwi.uni-muenchen.de/xml/person}titel')\n",
    "print(vorname.tag + \": \" + vorname.text)\n",
    "print(nachname.tag + \": \" + nachname.text)\n",
    "print(titel.tag + \": \" + titel.text)\n"
   ]
  },
  {
   "cell_type": "markdown",
   "id": "030901c1",
   "metadata": {},
   "source": [
    "##  8.4 XML-Entitäten\n",
    "* Entitäten in XML: `&entity-name;`\n",
    "* Et-Zeichen (&): `&amp;`\n",
    "* einfaches Anführungszeichen: `&apos;`\n",
    "* doppeltes Anführungszeichen: `&quot;`\n",
    "* größer als: `&gt;`\n",
    "* kleiner als: `&lt;`\n",
    "\n",
    "\n",
    "* Escapen durch XML-Entities von Zeichen, die Teil der XML-Syntax sind, ist notwendig, da sonst Syntaxfehler beim Parsing auftreten\n",
    "\n",
    "\n",
    "* eigene Definitionen (Makros) möglich (mit Hilfe von DTDs)"
   ]
  },
  {
   "cell_type": "code",
   "execution_count": 1,
   "id": "376e9d23",
   "metadata": {},
   "outputs": [
    {
     "name": "stdout",
     "output_type": "stream",
     "text": [
      "\n",
      "    if 1<20:\n",
      "        print('Eins ist kleiner als zwanzig!')\n",
      "\n"
     ]
    }
   ],
   "source": [
    "import xml.etree.ElementTree as ET\n",
    "doc = '''\n",
    "<programm>\n",
    "    if 1&lt;20:\n",
    "        print(&apos;Eins ist kleiner als zwanzig!&apos;)\n",
    "</programm>\n",
    "'''\n",
    "root = ET.fromstring(doc)\n",
    "print(root.text)"
   ]
  },
  {
   "cell_type": "markdown",
   "id": "a36d4f97",
   "metadata": {},
   "source": [
    "## 8.5 Dokumenttypdefinitionen (DTD)\n",
    "* Schemasprache zur Festlegung von XML-Strukturen (z.B. TEI-Schema für Korpusdaten)\n",
    "* Regeln aus welchen Elementen, Attributen und Entitäten ein\n",
    "  XML-Dokument bestehen darf/muss\n",
    "* sorgt für einheitliche Auszeichnung von Daten\n",
    "* etwa für die Korpus-Dokumentenformat-Definitionen von TEI-XML verwendet (siehe Aufgabe 1)\n",
    "* DTD's können in XML referenziert werden:\n",
    "  * inline im Prolog des Dokuments\n",
    "  * über private Datei: `<!DOCTYPE name SYSTEM \"file.dtd\">`\n",
    "  * auf öffentliche DTD verweisen: `<!DOCTYPE html PUBLIC \"-//W3C//DTD XHTML 1.0 Transitional//EN\"\n",
    "    \"http://www.w3.org/TR/xhtml1/DTD/xhtml1-transitional.dtd\">`"
   ]
  },
  {
   "cell_type": "markdown",
   "id": "cafc674b",
   "metadata": {},
   "source": [
    "### Elementdeklarationen\n",
    "\n",
    "|Operator | Funktion|\n",
    "|:---|:---|\n",
    "|`#PCDATA` |  Textinhalt |\n",
    "|`ANY` | Beliebiger Inhalt |\n",
    "|`EMPTY` | Leeres Element |\n",
    "|`Element` | Das Element muss genau einmal auftreten.|\n",
    "|`Element*` | Das Element kann entweder gar nicht auftreten oder es kann beliebig oft auftreten.|\n",
    "|`Element+` | Das Element muss mindestens einmal auftreten oder es kann beliebig oft auftreten.|\n",
    "|`Element?` | Das Element kann entweder gar nicht auftreten oder es kann genau einmal auftreten.|\n",
    "|`Element1,Element2,..` | Gibt eine festgelegte Sequenz von Elementen an.|\n",
    "|`Element1`<code>&#124;</code>`Element2`<code>&#124;</code>`..` | Gibt eine Reihe von Alternativen an, aus der immer nur genau eine auftreten darf.|\n",
    "|`(Element1 Op Element2..)` | Definiert eine Elementgruppe.|\n",
    "\n",
    "### Attributdeklarationen\n",
    "\n",
    "|Operator | Funktion|\n",
    "|:---|:---|\n",
    "|`#REQUIRED` | Attribut dar nicht ausgelassen werden. |\n",
    "|`#IMPLIED` | Attribut kann ausgelassen werden. |\n",
    "|`#FIXED \"...\"` | Attribut muss einen fixen Wert haben. |\n",
    "|`\"...\"` | Standardwert, wenn Attribut ausgelassen wird. |\n",
    "|`ID` | Ein eindeutiger Identifizierer.|\n",
    "|`Character Data (CDATA)` | Zeichendaten, die nicht verarbeitet werden. |\n",
    "|`(Wert1\\`<code>&#124;</code>`Wert2`<code>&#124;</code>`...)` | Ein Wert aus einer Aufzählung. |\n",
    "\n",
    "#### Beispiel:\n",
    "```\n",
    "<!ATTLIST Element1\n",
    " Attribut1 ID #REQUIRED\n",
    " Attribut2 CDATA #IMPLIED\n",
    ">\n",
    "```\n"
   ]
  },
  {
   "cell_type": "markdown",
   "id": "8bbe1650",
   "metadata": {},
   "source": [
    "#### Beispiel: programmsammlung.dtd\n",
    "```xml\n",
    "<!ELEMENT programmsammlung (programm+)>\n",
    "<!ELEMENT programm ( name,sprache, code,autor)>\n",
    "<!ELEMENT sprache (#PCDATA)>\n",
    "<!ELEMENT name (#PCDATA)>\n",
    "<!ELEMENT code (#PCDATA)>\n",
    "<!ELEMENT autor (#PCDATA)>\n",
    "```"
   ]
  },
  {
   "cell_type": "markdown",
   "id": "81ce4cda",
   "metadata": {},
   "source": [
    "#### programmsammlung.xml:\n",
    "```xml\n",
    "<programmsammlung>\n",
    "\n",
    "\t<programm>\n",
    "\t\t<name>simple_loop.py</name>\n",
    "\t\t<sprache>Python</sprache>\n",
    "\t\t<code>for p in persons:\n",
    "\t\t\tprint(p.name + \" \" + p.age)\n",
    "\t\t</code>\n",
    "\t\t<autor>Jane Doe</autor>\n",
    "\t</programm>\n",
    "\t\n",
    "\t<programm>\n",
    "\t\t<name>tier.java</name>\n",
    "\t\t<sprache>Java</sprache>\n",
    "\t\t<code>public class Tier{\n",
    "\t\tprivate String art;\n",
    "\t\tprivate String name;\n",
    "\t\t\n",
    "\t\tpublic Tier(String art, String name){\n",
    "\t\t\tthis.name = name;\n",
    "\t\t\tthis.art = art; \n",
    "\t\t}\n",
    "\t\t</code>\n",
    "\t\t<autor>John Doe</autor>\n",
    "\t</programm>\n",
    "\t\n",
    "</programmsammlung>\n",
    "```"
   ]
  },
  {
   "cell_type": "markdown",
   "id": "11ecf9cd",
   "metadata": {},
   "source": [
    "### Validierung von XML-Dateien anhand von DTD-Schema\n",
    "- die externe Python-Bibliothek [lxml](https://lxml.de) unterstützt\n",
    "  DTD-Validation:\n"
   ]
  },
  {
   "cell_type": "code",
   "execution_count": 28,
   "id": "8adf6b0e",
   "metadata": {},
   "outputs": [
    {
     "name": "stdout",
     "output_type": "stream",
     "text": [
      "True\n"
     ]
    }
   ],
   "source": [
    "import sys\n",
    "#!{sys.executable} -m pip install --upgrade pip lxml\n",
    "from lxml import etree\n",
    "\n",
    "with open('programmsammlung.dtd') as f:\n",
    "    dtd = etree.DTD(f)\n",
    "with open('programmsammlung.xml', 'rb') as f:\n",
    "    root = etree.XML(f.read())\n",
    "\n",
    "print(dtd.validate(root))"
   ]
  },
  {
   "cell_type": "markdown",
   "id": "9786448d",
   "metadata": {},
   "source": [
    "#### XML-Datei-interne DTD mit Definition von Makronamen (s.o. Entitäten):"
   ]
  },
  {
   "cell_type": "code",
   "execution_count": 29,
   "id": "d5d6753a",
   "metadata": {},
   "outputs": [
    {
     "name": "stdout",
     "output_type": "stream",
     "text": [
      "copyright: Copyright by Erika & Max Muſtermann (ⅯⅯⅩⅩⅠ)\n"
     ]
    }
   ],
   "source": [
    "doc = '''<?xml version=\"1.0\" encoding=\"UTF-8\"?>\n",
    "<!DOCTYPE programm [\n",
    "    <!ENTITY year \"ⅯⅯⅩⅩⅠ\">\n",
    "    <!ENTITY longs \"ſ\">\n",
    "    <!ENTITY cpr \"Copyright by Erika &amp; Max Mu&longs;termann (&year;)\">\n",
    "]>\n",
    "<programm>\n",
    "    <name>simple_loop.py</name>\n",
    "    <sprache>Python</sprache>\n",
    "    <code>for p in persons:\n",
    "            print(p.name + \" \" + p.age)\n",
    "    </code>\n",
    "    <copyright>&cpr;</copyright>\n",
    "</programm>\n",
    "'''\n",
    "root = ET.fromstring(doc)\n",
    "print(\"copyright: \" + root.find('copyright').text)"
   ]
  },
  {
   "cell_type": "markdown",
   "id": "de9c311f",
   "metadata": {},
   "source": [
    "## Übungsaufgaben 8"
   ]
  },
  {
   "cell_type": "markdown",
   "id": "6c94c620",
   "metadata": {},
   "source": [
    "\n",
    "### Aufgabe 1: xmlpos (Extraktion und Annotation von TEI-XML)\n",
    "Schreiben Sie ein Python-Programm `xmlpos`, das aus einer Korpusdatei\n",
    "den Dokumenteninhalt extrahiert, diesen dann satzweise POS-tagged\n",
    "und eine XML-Datei folgender Form ausgibt:\n",
    "\n",
    "```xml\n",
    "<doc>\n",
    "  <s id=\"s-0001\">\n",
    "    <w id=\"w-0001\" pos=\"DET\">Der</w>\n",
    "\t<w id=\"w-0002\" pos=\"NOUN\">Hase</w>\n",
    "\t...\n",
    "  </s>\n",
    "  <s id=\"s-0002\">\n",
    "  ...\n",
    "</doc>\n",
    "```\n",
    "\n",
    "Anmerkungen:\n",
    "* Verwenden Sie die [TEI](https://tei-c.org/)-kodierten Korpusdateien des [deutschen Textarchivs](https://www.deutschestextarchiv.de/), z.B:\n",
    "  * Altman 1890: https://www.deutschestextarchiv.de/book/download_xml/altmann_elementarorganismen_1890\n",
    "  * Brandes 1832: https://www.deutschestextarchiv.de/book/download_xml/brandes_naturlehre03_1832\n",
    "\n",
    "\n",
    "> _XML-TEI (Text Encoding Initiative): weit verbreitetes XML-Dokumentenformat für die Kodierung von Textkorpora_    \n",
    "  (Schema mit einheitlichen Elementnamen und Attributen für die editionswissenschaftliche und linguistische Annotation von Texten, u.a. über DTD definiert)\n",
    "\n",
    "> _DTA (Deutsches Textarchiv): historisches deutsches Korpus_ (linguistisch annotiertes Volltextkorpus deutschsprachiger Texte aus der Zeit um 1600 bis 1900)\n",
    "\n",
    "\n",
    "* Sie können die XML-Dateien auch mit Werkzeugen wie wget oder curl\n",
    "  (man-Pages!)  herunterladen, oder auch Pythons `urllib` verwenden\n",
    "* Sie können `nltk` zur Satzsegmentierung und zum POS-Tagging verwenden; alternativ\n",
    "  dazu können Sie auch _stanza_ (oder _[spacy](https://spacy.io/)_) verwenden\n",
    "* Stellen Sie sicher, dass der tatsächlichen Text aus den Dokumenten extrahiert wird;\n",
    "  betrachten Sie hierzu folgendes (valides) XML-Dokument: `<a><b>1<c>2<d/>3</c></b>4<lb/>5</a>` \n",
    "\n",
    "```xml\n",
    " <a>\n",
    "\t<b>\n",
    "\t\t1\n",
    "\t\t<c>\n",
    "\t\t\t2\n",
    "\t\t\t<d/>\n",
    "\t\t\t3\n",
    "\t\t</c>\n",
    "\t</b>\n",
    "\t4\n",
    "\t<lb/>\n",
    "\t5\n",
    "</a> \n",
    "``` \n",
    "\n"
   ]
  },
  {
   "cell_type": "markdown",
   "id": "2a1e77aa",
   "metadata": {},
   "source": [
    "---\n",
    "### Aufgabe 2: xmltcf (Verarbeitung von annotierten XML-Dateien im TCF-Format)\n",
    "\n",
    "Im deutschen Textarchiv findet man auch annotierte Daten zu den\n",
    "entsprechenden Dokumenten.  Laden Sie eine solche lemmatisierte und\n",
    "annotierte XML-Datei im [TCF-Format](https://weblicht.sfs.uni-tuebingen.de/weblichtwiki/index.php/The_TCF_Format) (Text Corpus Format)\n",
    "herunter (z.B. Altmann: https://www.deutschestextarchiv.de/book/download_fulltcf/16299)\n",
    "und schreiben Sie ein Programm `xmltcf`, das eine zeilenweise die Sätze\n",
    "ausgibt, wobei die Token entweder mit ihren Lemmata oder ihren Tags\n",
    "annotiert sind:\n",
    "```bash\n",
    "$ ./xmltcf.py file.xml\n",
    "Ich/ich gehe/gehen ...\n",
    "$ ./xmltcf.py --tags file.xml\n",
    "Der/DET Mann/NOUN ...\n",
    "```\n"
   ]
  }
 ],
 "metadata": {
  "kernelspec": {
   "display_name": "Python 3 (ipykernel)",
   "language": "python",
   "name": "python3"
  },
  "language_info": {
   "codemirror_mode": {
    "name": "ipython",
    "version": 3
   },
   "file_extension": ".py",
   "mimetype": "text/x-python",
   "name": "python",
   "nbconvert_exporter": "python",
   "pygments_lexer": "ipython3",
   "version": "3.9.12"
  }
 },
 "nbformat": 4,
 "nbformat_minor": 5
}
